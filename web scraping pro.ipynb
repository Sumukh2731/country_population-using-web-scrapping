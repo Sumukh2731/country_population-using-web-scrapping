{
 "cells": [
  {
   "cell_type": "code",
   "execution_count": 1,
   "metadata": {},
   "outputs": [],
   "source": [
    "# importing libraries\n",
    "import requests\n",
    "import pandas as pd\n",
    "from bs4 import BeautifulSoup"
   ]
  },
  {
   "cell_type": "markdown",
   "metadata": {},
   "source": [
    "### Getting url"
   ]
  },
  {
   "cell_type": "code",
   "execution_count": 2,
   "metadata": {},
   "outputs": [
    {
     "data": {
      "text/plain": [
       "<Response [200]>"
      ]
     },
     "execution_count": 2,
     "metadata": {},
     "output_type": "execute_result"
    }
   ],
   "source": [
    "\n",
    "url = 'https://www.worldometers.info/population/countries-in-asia-by-population/'\n",
    "page = requests.get(url)\n",
    "page"
   ]
  },
  {
   "cell_type": "markdown",
   "metadata": {},
   "source": [
    "### using beautifulsoup converting url to html format"
   ]
  },
  {
   "cell_type": "code",
   "execution_count": 3,
   "metadata": {},
   "outputs": [
    {
     "data": {
      "text/plain": [
       "<bound method Tag.prettify of \n",
       "<!DOCTYPE html>\n",
       "<!--[if IE 8]> <html lang=\"en\" class=\"ie8\"> <![endif]--><!--[if IE 9]> <html lang=\"en\" class=\"ie9\"> <![endif]--><!--[if !IE]><!--> <html lang=\"en\"> <!--<![endif]--> <head> <meta charset=\"utf-8\"/> <meta content=\"IE=edge\" http-equiv=\"X-UA-Compatible\"/> <meta content=\"width=device-width, initial-scale=1\" name=\"viewport\"/> <title>Asian Countries by Population (2024) - Worldometer</title><meta content=\"List of countries (or dependencies) in Asia ranked by population, from the most populated. Growth rate, median age, fertility rate, area, density, population density, urbanization, urban population, share of world population.\" name=\"description\"/><!-- Favicon --><link href=\"/favicon/favicon.ico\" rel=\"shortcut icon\" type=\"image/x-icon\"/><link href=\"/favicon/apple-icon-57x57.png\" rel=\"apple-touch-icon\" sizes=\"57x57\"/><link href=\"/favicon/apple-icon-60x60.png\" rel=\"apple-touch-icon\" sizes=\"60x60\"/><link href=\"/favicon/apple-icon-72x72.png\" rel=\"apple-touch-icon\" sizes=\"72x72\"/><link href=\"/favicon/apple-icon-76x76.png\" rel=\"apple-touch-icon\" sizes=\"76x76\"/><link href=\"/favicon/apple-icon-114x114.png\" rel=\"apple-touch-icon\" sizes=\"114x114\"/><link href=\"/favicon/apple-icon-120x120.png\" rel=\"apple-touch-icon\" sizes=\"120x120\"/><link href=\"/favicon/apple-icon-144x144.png\" rel=\"apple-touch-icon\" sizes=\"144x144\"/><link href=\"/favicon/apple-icon-152x152.png\" rel=\"apple-touch-icon\" sizes=\"152x152\"/><link href=\"/favicon/apple-icon-180x180.png\" rel=\"apple-touch-icon\" sizes=\"180x180\"/><link href=\"/favicon/android-icon-192x192.png\" rel=\"icon\" sizes=\"192x192\" type=\"image/png\"/><link href=\"/favicon/favicon-32x32.png\" rel=\"icon\" sizes=\"32x32\" type=\"image/png\"/><link href=\"/favicon/favicon-96x96.png\" rel=\"icon\" sizes=\"96x96\" type=\"image/png\"/><link href=\"/favicon/favicon-16x16.png\" rel=\"icon\" sizes=\"16x16\" type=\"image/png\"/><link href=\"/favicon/manifest.json\" rel=\"manifest\"/><meta content=\"#ffffff\" name=\"msapplication-TileColor\"/><meta content=\"/favicon/ms-icon-144x144.png\" name=\"msapplication-TileImage\"/><meta content=\"#ffffff\" name=\"theme-color\"/><!-- og image --><meta content=\"http://www.worldometers.info/img/worldometers-fb.jpg\" property=\"og:image\"> <!-- Bootstrap --> <link href=\"/css/bootstrap.min.css\" rel=\"stylesheet\"/><link href=\"/wm16.css\" rel=\"stylesheet\"/><!-- font awesome --><link href=\"https://maxcdn.bootstrapcdn.com/font-awesome/4.4.0/css/font-awesome.min.css\" rel=\"stylesheet\"/> <!-- HTML5 shim and Respond.js for IE8 support of HTML5 elements and media queries --> <!--[if lt IE 9]> <script src=\"https://oss.maxcdn.com/html5shiv/3.7.2/html5shiv.min.js\"></script> <script src=\"https://oss.maxcdn.com/respond/1.4.2/respond.min.js\"></script> <![endif]--><!-- <script src=\"https://ajax.googleapis.com/ajax/libs/jquery/2.1.3/jquery.min.js\"></script>--> <script src=\"/js/jquery.min.js\"></script> <!-- Include all compiled plugins (below), or include individual files as needed --> <script src=\"/js/bootstrap.min.js\"></script> <!-- IE10 viewport hack for Surface/desktop Windows 8 bug --> <script src=\"/js/ie10-viewport-bug-workaround.js\"></script><!-- tables<link rel=\"stylesheet\" type=\"text/css\" href=\"https://cdn.datatables.net/s/bs-3.3.5/dt-1.10.10,fh-3.1.0,r-2.0.0/datatables.min.css\"/><script type=\"text/javascript\" src=\"https://cdn.datatables.net/s/bs-3.3.5/dt-1.10.10,fh-3.1.0,r-2.0.0/datatables.min.js\"></script><link rel=\"stylesheet\" type=\"text/css\" href=\"https://cdn.datatables.net/s/dt/dt-1.10.10,r-2.0.0/datatables.min.css\"/> <script type=\"text/javascript\" src=\"https://cdn.datatables.net/s/dt/dt-1.10.10,r-2.0.0/datatables.min.js\"></script> --><link href=\"https://cdn.datatables.net/1.10.19/css/dataTables.bootstrap.min.css\" rel=\"stylesheet\" type=\"text/css\"><script src=\"https://cdn.datatables.net/1.10.19/js/jquery.dataTables.min.js\" type=\"text/javascript\"></script><script src=\"https://cdn.datatables.net/1.10.19/js/dataTables.bootstrap.min.js\" type=\"text/javascript\"></script><script class=\"init\" type=\"text/javascript\">$.extend( $.fn.dataTable.defaults, { responsive: true\n",
       "} );\t$(document).ready(function() { $('#example2').dataTable( { \"scrollCollapse\": true,\t\"sDom\": '<\"bottom\"flp><\"clear\">', \"paging\": false } );\n",
       "} );</script><script class=\"init\" type=\"text/javascript\">$.extend( $.fn.dataTable.defaults, { responsive: true\n",
       "} );\t$(document).ready(function() { $('#table3').dataTable( { \"scrollCollapse\": true, \"order\": [[ 1, 'desc' ]],\t\"sDom\": '<\"bottom\"flp><\"clear\">', \"paging\": false } );\n",
       "} );</script><script class=\"init\" type=\"text/javascript\">$.extend( $.fn.dataTable.defaults, { responsive: true\n",
       "} );\t$(document).ready(function() { $('#example').dataTable( { \"scrollCollapse\": true,\t\"searching\": false,\t\"sDom\": '<\"top\">rt<\"bottom\"flp><\"clear\">', \"paging\": false } );\n",
       "} );</script><script class=\"init\" type=\"text/javascript\">$(document).ready(function() {\t$('#popbycountry').dataTable();\n",
       "} );</script></link></meta></head><body><!-- Google tag (gtag.js) --><script async=\"\" src=\"https://www.googletagmanager.com/gtag/js?id=G-ZDP3BFSX60\"></script><script> window.dataLayer = window.dataLayer || []; function gtag(){dataLayer.push(arguments);} gtag('js', new Date()); gtag('config', 'G-ZDP3BFSX60');</script><script async=\"\" crossorigin=\"anonymous\" src=\"https://pagead2.googlesyndication.com/pagead/js/adsbygoogle.js?client=ca-pub-3701697624350410\"></script><style type=\"text/css\"> .style1 { color: #666666 }</style><div class=\"navbar navbar-default\"> <div class=\"container\"> <div class=\"navbar-header\"> <div class=\"logo\"><a class=\"navbar-brand\" href=\"/\"><img border=\"0\" src=\"/img/worldometers-logo.gif\" title=\"Worldometer\"/></a></div> <button class=\"navbar-toggle\" data-target=\"#navbar-main\" data-toggle=\"collapse\" type=\"button\"> <span class=\"icon-bar\"></span> <span class=\"icon-bar\"></span> <span class=\"icon-bar\"></span> </button> </div> <div class=\"navbar-collapse collapse\" id=\"navbar-main\"> <ul class=\"nav navbar-nav\"> <li><a href=\"/coronavirus/\">Coronavirus</a></li> <li><a href=\"/population/\">Population</a></li> </ul> </div> </div></div><!-- MAIN --><div class=\"container\"><!-- TOP AD --><div class=\"row\"><div style=\"padding-top:15px; padding-bottom:15px; text-align:center;\"><script async=\"\" crossorigin=\"anonymous\" src=\"https://pagead2.googlesyndication.com/pagead/js/adsbygoogle.js?client=ca-pub-3701697624350410\"></script><!-- wm-top-24 --><ins class=\"adsbygoogle\" data-ad-client=\"ca-pub-3701697624350410\" data-ad-format=\"auto\" data-ad-slot=\"5369103488\" data-full-width-responsive=\"true\" style=\"display:block\"></ins><script> (adsbygoogle = window.adsbygoogle || []).push({});</script></div></div><!-- TOP AD --><!-- MAIN --><!-- CENTER --><div class=\"row\"><div class=\"col-md-12\"><!-- *** CONTENT A *** --><div class=\"content-inner\"><ul class=\"breadcrumb\"> <li><a href=\"/\">W</a></li><li><a href=\"/population/\">Population</a></li><li><a href=\"/population/world/\">World</a></li><li><a href=\"/population/asia/\">Asia</a></li> <li class=\"active\">Countries in Asia by Population</li></ul><div class=\"row spacer-bottom\"><div class=\"col-md-12\"> <h1>Asian Countries by population (2024)</h1><p>Click on each country to view current estimates (live population clock), historical data, list of countries, and projected figures.</p></div></div> <div style=\"background-color:#fff; text-align:center; font-size:14px; color:#aaa; padding-top:10px; padding-bottom:10px; font-style: italic\">Updated on July 16, 2023 with the latest<br/>July 2023-July 2024 estimates from the <a href=\"https://population.un.org/wpp/\" target=\"_blank\">2022 U.N. Revision</a></div><div class=\"table-responsive\" style=\"font-size:14px; width:100%\"> <table cellspacing=\"0\" class=\"table table-striped table-bordered\" id=\"example2\" width=\"100%\"> <thead> <tr> <th>#</th> <th>Country (or dependency)</th> <th>Population<br/> (2023)</th> <th>Yearly<br/> Change</th> <th>Net<br/> Change</th> <th>Density<br/> (P/Km²)</th> <th>Land Area<br/> (Km²)</th> <th>Migrants<br/> (net)</th> <th>Fert.<br/> Rate</th> <th>Med.<br/> Age</th> <th>Urban<br/> Pop %</th> <th>World<br/> Share</th> </tr> </thead> <tbody> <tr> <td>1</td> <td style=\"font-weight: bold; font-size:15px; text-align:left\"><a href=\"/world-population/china-population/\">China</a></td> <td style=\"font-weight: bold;\">1,425,671,352</td> <td>-0.02 %</td> <td>-215,985</td> <td>152</td> <td>9,388,211</td> <td>-310,220</td> <td>1.2</td> <td>39</td> <td>65 %</td> <td>17.72 %</td> </tr> <tr> <td>2</td> <td style=\"font-weight: bold; font-size:15px; text-align:left\"><a href=\"/world-population/india-population/\">India</a></td> <td style=\"font-weight: bold;\">1,428,627,663</td> <td>0.81 %</td> <td>11,454,490</td> <td>481</td> <td>2,973,190</td> <td>-486,136</td> <td>2.0</td> <td>28</td> <td>36 %</td> <td>17.76 %</td> </tr> <tr> <td>3</td> <td style=\"font-weight: bold; font-size:15px; text-align:left\"><a href=\"/world-population/indonesia-population/\">Indonesia</a></td> <td style=\"font-weight: bold;\">277,534,122</td> <td>0.74 %</td> <td>2,032,783</td> <td>153</td> <td>1,811,570</td> <td>-49,997</td> <td>2.1</td> <td>30</td> <td>59 %</td> <td>3.45 %</td> </tr> <tr> <td>4</td> <td style=\"font-weight: bold; font-size:15px; text-align:left\"><a href=\"/world-population/pakistan-population/\">Pakistan</a></td> <td style=\"font-weight: bold;\">240,485,658</td> <td>1.98 %</td> <td>4,660,796</td> <td>312</td> <td>770,880</td> <td>-165,988</td> <td>3.3</td> <td>21</td> <td>35 %</td> <td>2.99 %</td> </tr> <tr> <td>5</td> <td style=\"font-weight: bold; font-size:15px; text-align:left\"><a href=\"/world-population/bangladesh-population/\">Bangladesh</a></td> <td style=\"font-weight: bold;\">172,954,319</td> <td>1.03 %</td> <td>1,767,947</td> <td>1,329</td> <td>130,170</td> <td>-309,977</td> <td>1.9</td> <td>27</td> <td>41 %</td> <td>2.15 %</td> </tr> <tr> <td>6</td> <td style=\"font-weight: bold; font-size:15px; text-align:left\"><a href=\"/world-population/japan-population/\">Japan</a></td> <td style=\"font-weight: bold;\">123,294,513</td> <td>-0.53 %</td> <td>-657,179</td> <td>338</td> <td>364,555</td> <td>99,994</td> <td>1.3</td> <td>49</td> <td>94 %</td> <td>1.53 %</td> </tr> <tr> <td>7</td> <td style=\"font-weight: bold; font-size:15px; text-align:left\"><a href=\"/world-population/philippines-population/\">Philippines</a></td> <td style=\"font-weight: bold;\">117,337,368</td> <td>1.54 %</td> <td>1,778,359</td> <td>394</td> <td>298,170</td> <td>-69,996</td> <td>2.7</td> <td>25</td> <td>47 %</td> <td>1.46 %</td> </tr> <tr> <td>8</td> <td style=\"font-weight: bold; font-size:15px; text-align:left\"><a href=\"/world-population/vietnam-population/\">Vietnam</a></td> <td style=\"font-weight: bold;\">98,858,950</td> <td>0.68 %</td> <td>672,094</td> <td>319</td> <td>310,070</td> <td>-82,700</td> <td>1.9</td> <td>33</td> <td>40 %</td> <td>1.23 %</td> </tr> <tr> <td>9</td> <td style=\"font-weight: bold; font-size:15px; text-align:left\"><a href=\"/world-population/iran-population/\">Iran</a></td> <td style=\"font-weight: bold;\">89,172,767</td> <td>0.70 %</td> <td>622,197</td> <td>55</td> <td>1,628,550</td> <td>-39,998</td> <td>1.7</td> <td>33</td> <td>74 %</td> <td>1.11 %</td> </tr> <tr> <td>10</td> <td style=\"font-weight: bold; font-size:15px; text-align:left\"><a href=\"/world-population/turkey-population/\">Turkey</a></td> <td style=\"font-weight: bold;\">85,816,199</td> <td>0.56 %</td> <td>474,958</td> <td>112</td> <td>769,630</td> <td>-318,067</td> <td>1.9</td> <td>32</td> <td>77 %</td> <td>1.07 %</td> </tr> <tr> <td>11</td> <td style=\"font-weight: bold; font-size:15px; text-align:left\"><a href=\"/world-population/thailand-population/\">Thailand</a></td> <td style=\"font-weight: bold;\">71,801,279</td> <td>0.15 %</td> <td>104,249</td> <td>141</td> <td>510,890</td> <td>18,999</td> <td>1.3</td> <td>40</td> <td>52 %</td> <td>0.89 %</td> </tr> <tr> <td>12</td> <td style=\"font-weight: bold; font-size:15px; text-align:left\"><a href=\"/world-population/myanmar-population/\">Myanmar</a></td> <td style=\"font-weight: bold;\">54,577,997</td> <td>0.74 %</td> <td>398,691</td> <td>84</td> <td>653,290</td> <td>-34,998</td> <td>2.1</td> <td>30</td> <td>33 %</td> <td>0.68 %</td> </tr> <tr> <td>13</td> <td style=\"font-weight: bold; font-size:15px; text-align:left\"><a href=\"/world-population/south-korea-population/\">South Korea</a></td> <td style=\"font-weight: bold;\">51,784,059</td> <td>-0.06 %</td> <td>-31,751</td> <td>533</td> <td>97,230</td> <td>29,998</td> <td>0.9</td> <td>44</td> <td>82 %</td> <td>0.64 %</td> </tr> <tr> <td>14</td> <td style=\"font-weight: bold; font-size:15px; text-align:left\"><a href=\"/world-population/iraq-population/\">Iraq</a></td> <td style=\"font-weight: bold;\">45,504,560</td> <td>2.27 %</td> <td>1,008,438</td> <td>105</td> <td>434,320</td> <td>-6,000</td> <td>3.4</td> <td>20</td> <td>71 %</td> <td>0.57 %</td> </tr> <tr> <td>15</td> <td style=\"font-weight: bold; font-size:15px; text-align:left\"><a href=\"/world-population/afghanistan-population/\">Afghanistan</a></td> <td style=\"font-weight: bold;\">42,239,854</td> <td>2.70 %</td> <td>1,111,083</td> <td>65</td> <td>652,860</td> <td>-65,846</td> <td>4.4</td> <td>17</td> <td>26 %</td> <td>0.53 %</td> </tr> <tr> <td>16</td> <td style=\"font-weight: bold; font-size:15px; text-align:left\"><a href=\"/world-population/saudi-arabia-population/\">Saudi Arabia</a></td> <td style=\"font-weight: bold;\">36,947,025</td> <td>1.48 %</td> <td>538,205</td> <td>17</td> <td>2,149,690</td> <td>28,998</td> <td>2.4</td> <td>31</td> <td>83 %</td> <td>0.46 %</td> </tr> <tr> <td>17</td> <td style=\"font-weight: bold; font-size:15px; text-align:left\"><a href=\"/world-population/uzbekistan-population/\">Uzbekistan</a></td> <td style=\"font-weight: bold;\">35,163,944</td> <td>1.55 %</td> <td>536,292</td> <td>83</td> <td>425,400</td> <td>-19,999</td> <td>2.8</td> <td>27</td> <td>49 %</td> <td>0.44 %</td> </tr> <tr> <td>18</td> <td style=\"font-weight: bold; font-size:15px; text-align:left\"><a href=\"/world-population/malaysia-population/\">Malaysia</a></td> <td style=\"font-weight: bold;\">34,308,525</td> <td>1.09 %</td> <td>370,304</td> <td>104</td> <td>328,550</td> <td>48,997</td> <td>1.8</td> <td>31</td> <td>78 %</td> <td>0.43 %</td> </tr> <tr> <td>19</td> <td style=\"font-weight: bold; font-size:15px; text-align:left\"><a href=\"/world-population/yemen-population/\">Yemen</a></td> <td style=\"font-weight: bold;\">34,449,825</td> <td>2.24 %</td> <td>753,211</td> <td>65</td> <td>527,970</td> <td>-29,914</td> <td>3.6</td> <td>19</td> <td>37 %</td> <td>0.43 %</td> </tr> <tr> <td>20</td> <td style=\"font-weight: bold; font-size:15px; text-align:left\"><a href=\"/world-population/nepal-population/\">Nepal</a></td> <td style=\"font-weight: bold;\">30,896,590</td> <td>1.14 %</td> <td>349,010</td> <td>216</td> <td>143,350</td> <td>-62,012</td> <td>2.0</td> <td>24</td> <td>22 %</td> <td>0.38 %</td> </tr> <tr> <td>21</td> <td style=\"font-weight: bold; font-size:15px; text-align:left\"><a href=\"/world-population/north-korea-population/\">North Korea</a></td> <td style=\"font-weight: bold;\">26,160,821</td> <td>0.35 %</td> <td>91,405</td> <td>217</td> <td>120,410</td> <td>-2,000</td> <td>1.8</td> <td>36</td> <td>63 %</td> <td>0.33 %</td> </tr> <tr> <td>22</td> <td style=\"font-weight: bold; font-size:15px; text-align:left\"><a href=\"/world-population/taiwan-population/\">Taiwan</a></td> <td style=\"font-weight: bold;\">23,923,276</td> <td>0.13 %</td> <td>29,882</td> <td>676</td> <td>35,410</td> <td>23,999</td> <td>1.2</td> <td>42</td> <td>80 %</td> <td>0.30 %</td> </tr> <tr> <td>23</td> <td style=\"font-weight: bold; font-size:15px; text-align:left\"><a href=\"/world-population/sri-lanka-population/\">Sri Lanka</a></td> <td style=\"font-weight: bold;\">21,893,579</td> <td>0.28 %</td> <td>61,436</td> <td>349</td> <td>62,710</td> <td>-77,495</td> <td>2.0</td> <td>33</td> <td>19 %</td> <td>0.27 %</td> </tr> <tr> <td>24</td> <td style=\"font-weight: bold; font-size:15px; text-align:left\"><a href=\"/world-population/syria-population/\">Syria</a></td> <td style=\"font-weight: bold;\">23,227,014</td> <td>4.98 %</td> <td>1,101,765</td> <td>126</td> <td>183,630</td> <td>757,103</td> <td>2.7</td> <td>22</td> <td>53 %</td> <td>0.29 %</td> </tr> <tr> <td>25</td> <td style=\"font-weight: bold; font-size:15px; text-align:left\"><a href=\"/world-population/kazakhstan-population/\">Kazakhstan</a></td> <td style=\"font-weight: bold;\">19,606,633</td> <td>1.08 %</td> <td>208,635</td> <td>7</td> <td>2,699,700</td> <td>0</td> <td>3.0</td> <td>30</td> <td>57 %</td> <td>0.24 %</td> </tr> <tr> <td>26</td> <td style=\"font-weight: bold; font-size:15px; text-align:left\"><a href=\"/world-population/cambodia-population/\">Cambodia</a></td> <td style=\"font-weight: bold;\">16,944,826</td> <td>1.06 %</td> <td>176,984</td> <td>96</td> <td>176,520</td> <td>-29,998</td> <td>2.3</td> <td>27</td> <td>26 %</td> <td>0.21 %</td> </tr> <tr> <td>27</td> <td style=\"font-weight: bold; font-size:15px; text-align:left\"><a href=\"/world-population/jordan-population/\">Jordan</a></td> <td style=\"font-weight: bold;\">11,337,052</td> <td>0.45 %</td> <td>51,183</td> <td>128</td> <td>88,780</td> <td>-157,392</td> <td>2.7</td> <td>24</td> <td>85 %</td> <td>0.14 %</td> </tr> <tr> <td>28</td> <td style=\"font-weight: bold; font-size:15px; text-align:left\"><a href=\"/world-population/azerbaijan-population/\">Azerbaijan</a></td> <td style=\"font-weight: bold;\">10,412,651</td> <td>0.53 %</td> <td>54,577</td> <td>126</td> <td>82,658</td> <td>0</td> <td>1.7</td> <td>32</td> <td>57 %</td> <td>0.13 %</td> </tr> <tr> <td>29</td> <td style=\"font-weight: bold; font-size:15px; text-align:left\"><a href=\"/world-population/tajikistan-population/\">Tajikistan</a></td> <td style=\"font-weight: bold;\">10,143,543</td> <td>1.92 %</td> <td>190,756</td> <td>72</td> <td>139,960</td> <td>-19,999</td> <td>3.1</td> <td>22</td> <td>28 %</td> <td>0.13 %</td> </tr> <tr> <td>30</td> <td style=\"font-weight: bold; font-size:15px; text-align:left\"><a href=\"/world-population/united-arab-emirates-population/\">United Arab Emirates</a></td> <td style=\"font-weight: bold;\">9,516,871</td> <td>0.80 %</td> <td>75,742</td> <td>114</td> <td>83,600</td> <td>0</td> <td>1.4</td> <td>34</td> <td>94 %</td> <td>0.12 %</td> </tr> <tr> <td>31</td> <td style=\"font-weight: bold; font-size:15px; text-align:left\"><a href=\"/world-population/israel-population/\">Israel</a></td> <td style=\"font-weight: bold;\">9,174,520</td> <td>1.51 %</td> <td>136,211</td> <td>424</td> <td>21,640</td> <td>9,999</td> <td>2.9</td> <td>29</td> <td>92 %</td> <td>0.11 %</td> </tr> <tr> <td>32</td> <td style=\"font-weight: bold; font-size:15px; text-align:left\"><a href=\"/world-population/china-hong-kong-sar-population/\">Hong Kong</a></td> <td style=\"font-weight: bold;\">7,491,609</td> <td>0.04 %</td> <td>2,744</td> <td>7,135</td> <td>1,050</td> <td>19,999</td> <td>0.8</td> <td>46</td> <td>N.A.</td> <td>0.09 %</td> </tr> <tr> <td>33</td> <td style=\"font-weight: bold; font-size:15px; text-align:left\"><a href=\"/world-population/laos-population/\">Laos</a></td> <td style=\"font-weight: bold;\">7,633,779</td> <td>1.39 %</td> <td>104,304</td> <td>33</td> <td>230,800</td> <td>-9,999</td> <td>2.4</td> <td>24</td> <td>37 %</td> <td>0.09 %</td> </tr> <tr> <td>34</td> <td style=\"font-weight: bold; font-size:15px; text-align:left\"><a href=\"/world-population/kyrgyzstan-population/\">Kyrgyzstan</a></td> <td style=\"font-weight: bold;\">6,735,347</td> <td>1.58 %</td> <td>104,724</td> <td>35</td> <td>191,800</td> <td>-9,999</td> <td>2.9</td> <td>24</td> <td>37 %</td> <td>0.08 %</td> </tr> <tr> <td>35</td> <td style=\"font-weight: bold; font-size:15px; text-align:left\"><a href=\"/world-population/turkmenistan-population/\">Turkmenistan</a></td> <td style=\"font-weight: bold;\">6,516,100</td> <td>1.33 %</td> <td>85,330</td> <td>14</td> <td>469,930</td> <td>-4,000</td> <td>2.6</td> <td>26</td> <td>52 %</td> <td>0.08 %</td> </tr> <tr> <td>36</td> <td style=\"font-weight: bold; font-size:15px; text-align:left\"><a href=\"/world-population/singapore-population/\">Singapore</a></td> <td style=\"font-weight: bold;\">6,014,723</td> <td>0.65 %</td> <td>39,034</td> <td>8,592</td> <td>700</td> <td>26,998</td> <td>1.0</td> <td>43</td> <td>N.A.</td> <td>0.07 %</td> </tr> <tr> <td>37</td> <td style=\"font-weight: bold; font-size:15px; text-align:left\"><a href=\"/world-population/lebanon-population/\">Lebanon</a></td> <td style=\"font-weight: bold;\">5,353,930</td> <td>-2.47 %</td> <td>-135,809</td> <td>523</td> <td>10,230</td> <td>-177,331</td> <td>2.1</td> <td>29</td> <td>97 %</td> <td>0.07 %</td> </tr> <tr> <td>38</td> <td style=\"font-weight: bold; font-size:15px; text-align:left\"><a href=\"/world-population/state-of-palestine-population/\">State of Palestine</a></td> <td style=\"font-weight: bold;\">5,371,230</td> <td>2.31 %</td> <td>121,158</td> <td>892</td> <td>6,020</td> <td>-5,000</td> <td>3.4</td> <td>20</td> <td>83 %</td> <td>0.07 %</td> </tr> <tr> <td>39</td> <td style=\"font-weight: bold; font-size:15px; text-align:left\"><a href=\"/world-population/oman-population/\">Oman</a></td> <td style=\"font-weight: bold;\">4,644,384</td> <td>1.49 %</td> <td>68,086</td> <td>15</td> <td>309,500</td> <td>0</td> <td>2.5</td> <td>29</td> <td>N.A.</td> <td>0.06 %</td> </tr> <tr> <td>40</td> <td style=\"font-weight: bold; font-size:15px; text-align:left\"><a href=\"/world-population/kuwait-population/\">Kuwait</a></td> <td style=\"font-weight: bold;\">4,310,108</td> <td>0.97 %</td> <td>41,235</td> <td>242</td> <td>17,820</td> <td>11,999</td> <td>2.1</td> <td>40</td> <td>N.A.</td> <td>0.05 %</td> </tr> <tr> <td>41</td> <td style=\"font-weight: bold; font-size:15px; text-align:left\"><a href=\"/world-population/georgia-population/\">Georgia</a></td> <td style=\"font-weight: bold;\">3,728,282</td> <td>-0.43 %</td> <td>-16,103</td> <td>54</td> <td>69,490</td> <td>-9,999</td> <td>2.1</td> <td>37</td> <td>63 %</td> <td>0.05 %</td> </tr> <tr> <td>42</td> <td style=\"font-weight: bold; font-size:15px; text-align:left\"><a href=\"/world-population/mongolia-population/\">Mongolia</a></td> <td style=\"font-weight: bold;\">3,447,157</td> <td>1.44 %</td> <td>48,791</td> <td>2</td> <td>1,553,560</td> <td>-850</td> <td>2.7</td> <td>27</td> <td>67 %</td> <td>0.04 %</td> </tr> <tr> <td>43</td> <td style=\"font-weight: bold; font-size:15px; text-align:left\"><a href=\"/world-population/armenia-population/\">Armenia</a></td> <td style=\"font-weight: bold;\">2,777,970</td> <td>-0.09 %</td> <td>-2,499</td> <td>98</td> <td>28,470</td> <td>-5,000</td> <td>1.6</td> <td>35</td> <td>67 %</td> <td>0.03 %</td> </tr> <tr> <td>44</td> <td style=\"font-weight: bold; font-size:15px; text-align:left\"><a href=\"/world-population/qatar-population/\">Qatar</a></td> <td style=\"font-weight: bold;\">2,716,391</td> <td>0.79 %</td> <td>21,269</td> <td>234</td> <td>11,610</td> <td>0</td> <td>1.8</td> <td>34</td> <td>N.A.</td> <td>0.03 %</td> </tr> <tr> <td>45</td> <td style=\"font-weight: bold; font-size:15px; text-align:left\"><a href=\"/world-population/bahrain-population/\">Bahrain</a></td> <td style=\"font-weight: bold;\">1,485,509</td> <td>0.90 %</td> <td>13,276</td> <td>1,955</td> <td>760</td> <td>0</td> <td>1.8</td> <td>34</td> <td>N.A.</td> <td>0.02 %</td> </tr> <tr> <td>46</td> <td style=\"font-weight: bold; font-size:15px; text-align:left\"><a href=\"/world-population/timor-leste-population/\">Timor-Leste</a></td> <td style=\"font-weight: bold;\">1,360,596</td> <td>1.44 %</td> <td>19,300</td> <td>91</td> <td>14,870</td> <td>-5,000</td> <td>3.0</td> <td>21</td> <td>35 %</td> <td>0.02 %</td> </tr> <tr> <td>47</td> <td style=\"font-weight: bold; font-size:15px; text-align:left\"><a href=\"/world-population/cyprus-population/\">Cyprus</a></td> <td style=\"font-weight: bold;\">1,260,138</td> <td>0.69 %</td> <td>8,650</td> <td>136</td> <td>9,240</td> <td>5,000</td> <td>1.3</td> <td>39</td> <td>65 %</td> <td>0.02 %</td> </tr> <tr> <td>48</td> <td style=\"font-weight: bold; font-size:15px; text-align:left\"><a href=\"/world-population/bhutan-population/\">Bhutan</a></td> <td style=\"font-weight: bold;\">787,424</td> <td>0.64 %</td> <td>4,969</td> <td>21</td> <td>38,117</td> <td>300</td> <td>1.4</td> <td>29</td> <td>49 %</td> <td>0.01 %</td> </tr> <tr> <td>49</td> <td style=\"font-weight: bold; font-size:15px; text-align:left\"><a href=\"/world-population/china-macao-sar-population/\">Macao</a></td> <td style=\"font-weight: bold;\">704,149</td> <td>1.29 %</td> <td>8,981</td> <td>23,472</td> <td>30</td> <td>5,000</td> <td>1.1</td> <td>39</td> <td>97 %</td> <td>0.01 %</td> </tr> <tr> <td>50</td> <td style=\"font-weight: bold; font-size:15px; text-align:left\"><a href=\"/world-population/maldives-population/\">Maldives</a></td> <td style=\"font-weight: bold;\">521,021</td> <td>-0.53 %</td> <td>-2,766</td> <td>1,737</td> <td>300</td> <td>-8,652</td> <td>1.7</td> <td>32</td> <td>39 %</td> <td>0.01 %</td> </tr> <tr> <td>51</td> <td style=\"font-weight: bold; font-size:15px; text-align:left\"><a href=\"/world-population/brunei-darussalam-population/\">Brunei </a></td> <td style=\"font-weight: bold;\">452,524</td> <td>0.78 %</td> <td>3,522</td> <td>86</td> <td>5,270</td> <td>0</td> <td>1.7</td> <td>33</td> <td>80 %</td> <td>0.01 %</td> </tr> </tbody></table><br/><div class=\"source-table\">Source: <strong>Worldometer</strong> (<a href=\"/\">www.Worldometers.info</a>) <div class=\"source-table-elab\">Elaboration of data by United Nations, Department of Economic and Social Affairs, Population Division. <a href=\"https://population.un.org/wpp/\">World Population Prospects: The 2022 Revision</a>. (Medium-fertility variant).</div></div></div> <!-- Tag ID: worldometers_728x90_970x90_BTF --><div align=\"center\" id=\"worldometers_728x90_970x90_BTF\"><script data-cfasync=\"false\" type=\"text/javascript\"> freestar.config.enabled_slots.push({ placementName: \"worldometers_728x90_970x90_BTF\", slotId: \"worldometers_728x90_970x90_BTF\" });</script></div></div><!-- *** CONTENT A *** --></div></div></div> <!--=== Closed TOP Content Container ===--> <footer><div class=\"footerlinks\"><div style=\"margin-bottom:20px\"><a href=\"/\"><img border=\"0\" class=\"img-footer\" src=\"/img/worldometers-logo-footer.png\"/></a></div><a href=\"/about/\">about</a> | <a href=\"/faq/\">faq</a> | <a href=\"/languages/\">languages</a> | <a href=\"/contact/\">contact</a></div><ul class=\"list-inline text-center socialbuttons\"><li><a data-placement=\"bottom\" data-toggle=\"tooltip\" href=\"/newsletter-subscribe/\" title=\"Newsletter\"><i class=\"fa fa-bullhorn fa-round\"></i></a></li> <li><a href=\"https://twitter.com/Worldometers\"><i class=\"fa fa-twitter fa-round\"></i></a></li> <li><a href=\"https://www.facebook.com/Worldometers.info\"><i class=\"fa fa-facebook fa-round\"></i></a></li></ul> <div class=\"copy\">© Copyright Worldometers.info - All rights reserved - <a href=\"/disclaimer/\">Disclaimer &amp; Privacy Policy</a></div></footer><!-- ADDTHIS--><script async=\"async\" src=\"//s7.addthis.com/js/300/addthis_widget.js#pubid=ra-54615fa823b2af68\" type=\"text/javascript\"></script> <!-- PAGEFAIR --><script type=\"text/javascript\"> (function() { function async_load(script_url){ var protocol = ('https:' == document.location.protocol ? 'https://' : 'http://'); var s = document.createElement('script'); s.src = protocol + script_url; var x = document.getElementsByTagName('script')[0]; x.parentNode.insertBefore(s, x); } bm_website_code = '7849CD9451D34931'; jQuery(document).ready(function(){async_load('asset.pagefair.com/measure.min.js')}); jQuery(document).ready(function(){async_load('asset.pagefair.net/ads.min.js')}); })();</script> <!-- PAGEFAIR --> <!-- Quantcast Tag --><script type=\"text/javascript\">var _qevents = _qevents || [];\n",
       "(function() {\n",
       "var elem = document.createElement('script');\n",
       "elem.src = (document.location.protocol == \"https:\" ? \"https://secure\" : \"http://edge\") + \".quantserve.com/quant.js\";\n",
       "elem.async = true;\n",
       "elem.type = \"text/javascript\";\n",
       "var scpt = document.getElementsByTagName('script')[0];\n",
       "scpt.parentNode.insertBefore(elem, scpt);\n",
       "})();\n",
       "_qevents.push({\n",
       "qacct:\"p-Pd9JxUkvV0m7q\"\n",
       "});</script><noscript><div style=\"display:none;\"><img alt=\"Quantcast\" border=\"0\" height=\"1\" src=\"//pixel.quantserve.com/pixel/p-Pd9JxUkvV0m7q.gif\" width=\"1\"/></div></noscript><!-- End Quantcast tag --></body></html>>"
      ]
     },
     "execution_count": 3,
     "metadata": {},
     "output_type": "execute_result"
    }
   ],
   "source": [
    "soup = BeautifulSoup(page.text)\n",
    "soup.prettify"
   ]
  },
  {
   "cell_type": "markdown",
   "metadata": {},
   "source": [
    "### finding table body"
   ]
  },
  {
   "cell_type": "code",
   "execution_count": 4,
   "metadata": {},
   "outputs": [
    {
     "data": {
      "text/plain": [
       "<tbody> <tr> <td>1</td> <td style=\"font-weight: bold; font-size:15px; text-align:left\"><a href=\"/world-population/china-population/\">China</a></td> <td style=\"font-weight: bold;\">1,425,671,352</td> <td>-0.02 %</td> <td>-215,985</td> <td>152</td> <td>9,388,211</td> <td>-310,220</td> <td>1.2</td> <td>39</td> <td>65 %</td> <td>17.72 %</td> </tr> <tr> <td>2</td> <td style=\"font-weight: bold; font-size:15px; text-align:left\"><a href=\"/world-population/india-population/\">India</a></td> <td style=\"font-weight: bold;\">1,428,627,663</td> <td>0.81 %</td> <td>11,454,490</td> <td>481</td> <td>2,973,190</td> <td>-486,136</td> <td>2.0</td> <td>28</td> <td>36 %</td> <td>17.76 %</td> </tr> <tr> <td>3</td> <td style=\"font-weight: bold; font-size:15px; text-align:left\"><a href=\"/world-population/indonesia-population/\">Indonesia</a></td> <td style=\"font-weight: bold;\">277,534,122</td> <td>0.74 %</td> <td>2,032,783</td> <td>153</td> <td>1,811,570</td> <td>-49,997</td> <td>2.1</td> <td>30</td> <td>59 %</td> <td>3.45 %</td> </tr> <tr> <td>4</td> <td style=\"font-weight: bold; font-size:15px; text-align:left\"><a href=\"/world-population/pakistan-population/\">Pakistan</a></td> <td style=\"font-weight: bold;\">240,485,658</td> <td>1.98 %</td> <td>4,660,796</td> <td>312</td> <td>770,880</td> <td>-165,988</td> <td>3.3</td> <td>21</td> <td>35 %</td> <td>2.99 %</td> </tr> <tr> <td>5</td> <td style=\"font-weight: bold; font-size:15px; text-align:left\"><a href=\"/world-population/bangladesh-population/\">Bangladesh</a></td> <td style=\"font-weight: bold;\">172,954,319</td> <td>1.03 %</td> <td>1,767,947</td> <td>1,329</td> <td>130,170</td> <td>-309,977</td> <td>1.9</td> <td>27</td> <td>41 %</td> <td>2.15 %</td> </tr> <tr> <td>6</td> <td style=\"font-weight: bold; font-size:15px; text-align:left\"><a href=\"/world-population/japan-population/\">Japan</a></td> <td style=\"font-weight: bold;\">123,294,513</td> <td>-0.53 %</td> <td>-657,179</td> <td>338</td> <td>364,555</td> <td>99,994</td> <td>1.3</td> <td>49</td> <td>94 %</td> <td>1.53 %</td> </tr> <tr> <td>7</td> <td style=\"font-weight: bold; font-size:15px; text-align:left\"><a href=\"/world-population/philippines-population/\">Philippines</a></td> <td style=\"font-weight: bold;\">117,337,368</td> <td>1.54 %</td> <td>1,778,359</td> <td>394</td> <td>298,170</td> <td>-69,996</td> <td>2.7</td> <td>25</td> <td>47 %</td> <td>1.46 %</td> </tr> <tr> <td>8</td> <td style=\"font-weight: bold; font-size:15px; text-align:left\"><a href=\"/world-population/vietnam-population/\">Vietnam</a></td> <td style=\"font-weight: bold;\">98,858,950</td> <td>0.68 %</td> <td>672,094</td> <td>319</td> <td>310,070</td> <td>-82,700</td> <td>1.9</td> <td>33</td> <td>40 %</td> <td>1.23 %</td> </tr> <tr> <td>9</td> <td style=\"font-weight: bold; font-size:15px; text-align:left\"><a href=\"/world-population/iran-population/\">Iran</a></td> <td style=\"font-weight: bold;\">89,172,767</td> <td>0.70 %</td> <td>622,197</td> <td>55</td> <td>1,628,550</td> <td>-39,998</td> <td>1.7</td> <td>33</td> <td>74 %</td> <td>1.11 %</td> </tr> <tr> <td>10</td> <td style=\"font-weight: bold; font-size:15px; text-align:left\"><a href=\"/world-population/turkey-population/\">Turkey</a></td> <td style=\"font-weight: bold;\">85,816,199</td> <td>0.56 %</td> <td>474,958</td> <td>112</td> <td>769,630</td> <td>-318,067</td> <td>1.9</td> <td>32</td> <td>77 %</td> <td>1.07 %</td> </tr> <tr> <td>11</td> <td style=\"font-weight: bold; font-size:15px; text-align:left\"><a href=\"/world-population/thailand-population/\">Thailand</a></td> <td style=\"font-weight: bold;\">71,801,279</td> <td>0.15 %</td> <td>104,249</td> <td>141</td> <td>510,890</td> <td>18,999</td> <td>1.3</td> <td>40</td> <td>52 %</td> <td>0.89 %</td> </tr> <tr> <td>12</td> <td style=\"font-weight: bold; font-size:15px; text-align:left\"><a href=\"/world-population/myanmar-population/\">Myanmar</a></td> <td style=\"font-weight: bold;\">54,577,997</td> <td>0.74 %</td> <td>398,691</td> <td>84</td> <td>653,290</td> <td>-34,998</td> <td>2.1</td> <td>30</td> <td>33 %</td> <td>0.68 %</td> </tr> <tr> <td>13</td> <td style=\"font-weight: bold; font-size:15px; text-align:left\"><a href=\"/world-population/south-korea-population/\">South Korea</a></td> <td style=\"font-weight: bold;\">51,784,059</td> <td>-0.06 %</td> <td>-31,751</td> <td>533</td> <td>97,230</td> <td>29,998</td> <td>0.9</td> <td>44</td> <td>82 %</td> <td>0.64 %</td> </tr> <tr> <td>14</td> <td style=\"font-weight: bold; font-size:15px; text-align:left\"><a href=\"/world-population/iraq-population/\">Iraq</a></td> <td style=\"font-weight: bold;\">45,504,560</td> <td>2.27 %</td> <td>1,008,438</td> <td>105</td> <td>434,320</td> <td>-6,000</td> <td>3.4</td> <td>20</td> <td>71 %</td> <td>0.57 %</td> </tr> <tr> <td>15</td> <td style=\"font-weight: bold; font-size:15px; text-align:left\"><a href=\"/world-population/afghanistan-population/\">Afghanistan</a></td> <td style=\"font-weight: bold;\">42,239,854</td> <td>2.70 %</td> <td>1,111,083</td> <td>65</td> <td>652,860</td> <td>-65,846</td> <td>4.4</td> <td>17</td> <td>26 %</td> <td>0.53 %</td> </tr> <tr> <td>16</td> <td style=\"font-weight: bold; font-size:15px; text-align:left\"><a href=\"/world-population/saudi-arabia-population/\">Saudi Arabia</a></td> <td style=\"font-weight: bold;\">36,947,025</td> <td>1.48 %</td> <td>538,205</td> <td>17</td> <td>2,149,690</td> <td>28,998</td> <td>2.4</td> <td>31</td> <td>83 %</td> <td>0.46 %</td> </tr> <tr> <td>17</td> <td style=\"font-weight: bold; font-size:15px; text-align:left\"><a href=\"/world-population/uzbekistan-population/\">Uzbekistan</a></td> <td style=\"font-weight: bold;\">35,163,944</td> <td>1.55 %</td> <td>536,292</td> <td>83</td> <td>425,400</td> <td>-19,999</td> <td>2.8</td> <td>27</td> <td>49 %</td> <td>0.44 %</td> </tr> <tr> <td>18</td> <td style=\"font-weight: bold; font-size:15px; text-align:left\"><a href=\"/world-population/malaysia-population/\">Malaysia</a></td> <td style=\"font-weight: bold;\">34,308,525</td> <td>1.09 %</td> <td>370,304</td> <td>104</td> <td>328,550</td> <td>48,997</td> <td>1.8</td> <td>31</td> <td>78 %</td> <td>0.43 %</td> </tr> <tr> <td>19</td> <td style=\"font-weight: bold; font-size:15px; text-align:left\"><a href=\"/world-population/yemen-population/\">Yemen</a></td> <td style=\"font-weight: bold;\">34,449,825</td> <td>2.24 %</td> <td>753,211</td> <td>65</td> <td>527,970</td> <td>-29,914</td> <td>3.6</td> <td>19</td> <td>37 %</td> <td>0.43 %</td> </tr> <tr> <td>20</td> <td style=\"font-weight: bold; font-size:15px; text-align:left\"><a href=\"/world-population/nepal-population/\">Nepal</a></td> <td style=\"font-weight: bold;\">30,896,590</td> <td>1.14 %</td> <td>349,010</td> <td>216</td> <td>143,350</td> <td>-62,012</td> <td>2.0</td> <td>24</td> <td>22 %</td> <td>0.38 %</td> </tr> <tr> <td>21</td> <td style=\"font-weight: bold; font-size:15px; text-align:left\"><a href=\"/world-population/north-korea-population/\">North Korea</a></td> <td style=\"font-weight: bold;\">26,160,821</td> <td>0.35 %</td> <td>91,405</td> <td>217</td> <td>120,410</td> <td>-2,000</td> <td>1.8</td> <td>36</td> <td>63 %</td> <td>0.33 %</td> </tr> <tr> <td>22</td> <td style=\"font-weight: bold; font-size:15px; text-align:left\"><a href=\"/world-population/taiwan-population/\">Taiwan</a></td> <td style=\"font-weight: bold;\">23,923,276</td> <td>0.13 %</td> <td>29,882</td> <td>676</td> <td>35,410</td> <td>23,999</td> <td>1.2</td> <td>42</td> <td>80 %</td> <td>0.30 %</td> </tr> <tr> <td>23</td> <td style=\"font-weight: bold; font-size:15px; text-align:left\"><a href=\"/world-population/sri-lanka-population/\">Sri Lanka</a></td> <td style=\"font-weight: bold;\">21,893,579</td> <td>0.28 %</td> <td>61,436</td> <td>349</td> <td>62,710</td> <td>-77,495</td> <td>2.0</td> <td>33</td> <td>19 %</td> <td>0.27 %</td> </tr> <tr> <td>24</td> <td style=\"font-weight: bold; font-size:15px; text-align:left\"><a href=\"/world-population/syria-population/\">Syria</a></td> <td style=\"font-weight: bold;\">23,227,014</td> <td>4.98 %</td> <td>1,101,765</td> <td>126</td> <td>183,630</td> <td>757,103</td> <td>2.7</td> <td>22</td> <td>53 %</td> <td>0.29 %</td> </tr> <tr> <td>25</td> <td style=\"font-weight: bold; font-size:15px; text-align:left\"><a href=\"/world-population/kazakhstan-population/\">Kazakhstan</a></td> <td style=\"font-weight: bold;\">19,606,633</td> <td>1.08 %</td> <td>208,635</td> <td>7</td> <td>2,699,700</td> <td>0</td> <td>3.0</td> <td>30</td> <td>57 %</td> <td>0.24 %</td> </tr> <tr> <td>26</td> <td style=\"font-weight: bold; font-size:15px; text-align:left\"><a href=\"/world-population/cambodia-population/\">Cambodia</a></td> <td style=\"font-weight: bold;\">16,944,826</td> <td>1.06 %</td> <td>176,984</td> <td>96</td> <td>176,520</td> <td>-29,998</td> <td>2.3</td> <td>27</td> <td>26 %</td> <td>0.21 %</td> </tr> <tr> <td>27</td> <td style=\"font-weight: bold; font-size:15px; text-align:left\"><a href=\"/world-population/jordan-population/\">Jordan</a></td> <td style=\"font-weight: bold;\">11,337,052</td> <td>0.45 %</td> <td>51,183</td> <td>128</td> <td>88,780</td> <td>-157,392</td> <td>2.7</td> <td>24</td> <td>85 %</td> <td>0.14 %</td> </tr> <tr> <td>28</td> <td style=\"font-weight: bold; font-size:15px; text-align:left\"><a href=\"/world-population/azerbaijan-population/\">Azerbaijan</a></td> <td style=\"font-weight: bold;\">10,412,651</td> <td>0.53 %</td> <td>54,577</td> <td>126</td> <td>82,658</td> <td>0</td> <td>1.7</td> <td>32</td> <td>57 %</td> <td>0.13 %</td> </tr> <tr> <td>29</td> <td style=\"font-weight: bold; font-size:15px; text-align:left\"><a href=\"/world-population/tajikistan-population/\">Tajikistan</a></td> <td style=\"font-weight: bold;\">10,143,543</td> <td>1.92 %</td> <td>190,756</td> <td>72</td> <td>139,960</td> <td>-19,999</td> <td>3.1</td> <td>22</td> <td>28 %</td> <td>0.13 %</td> </tr> <tr> <td>30</td> <td style=\"font-weight: bold; font-size:15px; text-align:left\"><a href=\"/world-population/united-arab-emirates-population/\">United Arab Emirates</a></td> <td style=\"font-weight: bold;\">9,516,871</td> <td>0.80 %</td> <td>75,742</td> <td>114</td> <td>83,600</td> <td>0</td> <td>1.4</td> <td>34</td> <td>94 %</td> <td>0.12 %</td> </tr> <tr> <td>31</td> <td style=\"font-weight: bold; font-size:15px; text-align:left\"><a href=\"/world-population/israel-population/\">Israel</a></td> <td style=\"font-weight: bold;\">9,174,520</td> <td>1.51 %</td> <td>136,211</td> <td>424</td> <td>21,640</td> <td>9,999</td> <td>2.9</td> <td>29</td> <td>92 %</td> <td>0.11 %</td> </tr> <tr> <td>32</td> <td style=\"font-weight: bold; font-size:15px; text-align:left\"><a href=\"/world-population/china-hong-kong-sar-population/\">Hong Kong</a></td> <td style=\"font-weight: bold;\">7,491,609</td> <td>0.04 %</td> <td>2,744</td> <td>7,135</td> <td>1,050</td> <td>19,999</td> <td>0.8</td> <td>46</td> <td>N.A.</td> <td>0.09 %</td> </tr> <tr> <td>33</td> <td style=\"font-weight: bold; font-size:15px; text-align:left\"><a href=\"/world-population/laos-population/\">Laos</a></td> <td style=\"font-weight: bold;\">7,633,779</td> <td>1.39 %</td> <td>104,304</td> <td>33</td> <td>230,800</td> <td>-9,999</td> <td>2.4</td> <td>24</td> <td>37 %</td> <td>0.09 %</td> </tr> <tr> <td>34</td> <td style=\"font-weight: bold; font-size:15px; text-align:left\"><a href=\"/world-population/kyrgyzstan-population/\">Kyrgyzstan</a></td> <td style=\"font-weight: bold;\">6,735,347</td> <td>1.58 %</td> <td>104,724</td> <td>35</td> <td>191,800</td> <td>-9,999</td> <td>2.9</td> <td>24</td> <td>37 %</td> <td>0.08 %</td> </tr> <tr> <td>35</td> <td style=\"font-weight: bold; font-size:15px; text-align:left\"><a href=\"/world-population/turkmenistan-population/\">Turkmenistan</a></td> <td style=\"font-weight: bold;\">6,516,100</td> <td>1.33 %</td> <td>85,330</td> <td>14</td> <td>469,930</td> <td>-4,000</td> <td>2.6</td> <td>26</td> <td>52 %</td> <td>0.08 %</td> </tr> <tr> <td>36</td> <td style=\"font-weight: bold; font-size:15px; text-align:left\"><a href=\"/world-population/singapore-population/\">Singapore</a></td> <td style=\"font-weight: bold;\">6,014,723</td> <td>0.65 %</td> <td>39,034</td> <td>8,592</td> <td>700</td> <td>26,998</td> <td>1.0</td> <td>43</td> <td>N.A.</td> <td>0.07 %</td> </tr> <tr> <td>37</td> <td style=\"font-weight: bold; font-size:15px; text-align:left\"><a href=\"/world-population/lebanon-population/\">Lebanon</a></td> <td style=\"font-weight: bold;\">5,353,930</td> <td>-2.47 %</td> <td>-135,809</td> <td>523</td> <td>10,230</td> <td>-177,331</td> <td>2.1</td> <td>29</td> <td>97 %</td> <td>0.07 %</td> </tr> <tr> <td>38</td> <td style=\"font-weight: bold; font-size:15px; text-align:left\"><a href=\"/world-population/state-of-palestine-population/\">State of Palestine</a></td> <td style=\"font-weight: bold;\">5,371,230</td> <td>2.31 %</td> <td>121,158</td> <td>892</td> <td>6,020</td> <td>-5,000</td> <td>3.4</td> <td>20</td> <td>83 %</td> <td>0.07 %</td> </tr> <tr> <td>39</td> <td style=\"font-weight: bold; font-size:15px; text-align:left\"><a href=\"/world-population/oman-population/\">Oman</a></td> <td style=\"font-weight: bold;\">4,644,384</td> <td>1.49 %</td> <td>68,086</td> <td>15</td> <td>309,500</td> <td>0</td> <td>2.5</td> <td>29</td> <td>N.A.</td> <td>0.06 %</td> </tr> <tr> <td>40</td> <td style=\"font-weight: bold; font-size:15px; text-align:left\"><a href=\"/world-population/kuwait-population/\">Kuwait</a></td> <td style=\"font-weight: bold;\">4,310,108</td> <td>0.97 %</td> <td>41,235</td> <td>242</td> <td>17,820</td> <td>11,999</td> <td>2.1</td> <td>40</td> <td>N.A.</td> <td>0.05 %</td> </tr> <tr> <td>41</td> <td style=\"font-weight: bold; font-size:15px; text-align:left\"><a href=\"/world-population/georgia-population/\">Georgia</a></td> <td style=\"font-weight: bold;\">3,728,282</td> <td>-0.43 %</td> <td>-16,103</td> <td>54</td> <td>69,490</td> <td>-9,999</td> <td>2.1</td> <td>37</td> <td>63 %</td> <td>0.05 %</td> </tr> <tr> <td>42</td> <td style=\"font-weight: bold; font-size:15px; text-align:left\"><a href=\"/world-population/mongolia-population/\">Mongolia</a></td> <td style=\"font-weight: bold;\">3,447,157</td> <td>1.44 %</td> <td>48,791</td> <td>2</td> <td>1,553,560</td> <td>-850</td> <td>2.7</td> <td>27</td> <td>67 %</td> <td>0.04 %</td> </tr> <tr> <td>43</td> <td style=\"font-weight: bold; font-size:15px; text-align:left\"><a href=\"/world-population/armenia-population/\">Armenia</a></td> <td style=\"font-weight: bold;\">2,777,970</td> <td>-0.09 %</td> <td>-2,499</td> <td>98</td> <td>28,470</td> <td>-5,000</td> <td>1.6</td> <td>35</td> <td>67 %</td> <td>0.03 %</td> </tr> <tr> <td>44</td> <td style=\"font-weight: bold; font-size:15px; text-align:left\"><a href=\"/world-population/qatar-population/\">Qatar</a></td> <td style=\"font-weight: bold;\">2,716,391</td> <td>0.79 %</td> <td>21,269</td> <td>234</td> <td>11,610</td> <td>0</td> <td>1.8</td> <td>34</td> <td>N.A.</td> <td>0.03 %</td> </tr> <tr> <td>45</td> <td style=\"font-weight: bold; font-size:15px; text-align:left\"><a href=\"/world-population/bahrain-population/\">Bahrain</a></td> <td style=\"font-weight: bold;\">1,485,509</td> <td>0.90 %</td> <td>13,276</td> <td>1,955</td> <td>760</td> <td>0</td> <td>1.8</td> <td>34</td> <td>N.A.</td> <td>0.02 %</td> </tr> <tr> <td>46</td> <td style=\"font-weight: bold; font-size:15px; text-align:left\"><a href=\"/world-population/timor-leste-population/\">Timor-Leste</a></td> <td style=\"font-weight: bold;\">1,360,596</td> <td>1.44 %</td> <td>19,300</td> <td>91</td> <td>14,870</td> <td>-5,000</td> <td>3.0</td> <td>21</td> <td>35 %</td> <td>0.02 %</td> </tr> <tr> <td>47</td> <td style=\"font-weight: bold; font-size:15px; text-align:left\"><a href=\"/world-population/cyprus-population/\">Cyprus</a></td> <td style=\"font-weight: bold;\">1,260,138</td> <td>0.69 %</td> <td>8,650</td> <td>136</td> <td>9,240</td> <td>5,000</td> <td>1.3</td> <td>39</td> <td>65 %</td> <td>0.02 %</td> </tr> <tr> <td>48</td> <td style=\"font-weight: bold; font-size:15px; text-align:left\"><a href=\"/world-population/bhutan-population/\">Bhutan</a></td> <td style=\"font-weight: bold;\">787,424</td> <td>0.64 %</td> <td>4,969</td> <td>21</td> <td>38,117</td> <td>300</td> <td>1.4</td> <td>29</td> <td>49 %</td> <td>0.01 %</td> </tr> <tr> <td>49</td> <td style=\"font-weight: bold; font-size:15px; text-align:left\"><a href=\"/world-population/china-macao-sar-population/\">Macao</a></td> <td style=\"font-weight: bold;\">704,149</td> <td>1.29 %</td> <td>8,981</td> <td>23,472</td> <td>30</td> <td>5,000</td> <td>1.1</td> <td>39</td> <td>97 %</td> <td>0.01 %</td> </tr> <tr> <td>50</td> <td style=\"font-weight: bold; font-size:15px; text-align:left\"><a href=\"/world-population/maldives-population/\">Maldives</a></td> <td style=\"font-weight: bold;\">521,021</td> <td>-0.53 %</td> <td>-2,766</td> <td>1,737</td> <td>300</td> <td>-8,652</td> <td>1.7</td> <td>32</td> <td>39 %</td> <td>0.01 %</td> </tr> <tr> <td>51</td> <td style=\"font-weight: bold; font-size:15px; text-align:left\"><a href=\"/world-population/brunei-darussalam-population/\">Brunei </a></td> <td style=\"font-weight: bold;\">452,524</td> <td>0.78 %</td> <td>3,522</td> <td>86</td> <td>5,270</td> <td>0</td> <td>1.7</td> <td>33</td> <td>80 %</td> <td>0.01 %</td> </tr> </tbody>"
      ]
     },
     "execution_count": 4,
     "metadata": {},
     "output_type": "execute_result"
    }
   ],
   "source": [
    "table = soup.find('tbody')\n",
    "table"
   ]
  },
  {
   "cell_type": "markdown",
   "metadata": {},
   "source": [
    "### getting rows info"
   ]
  },
  {
   "cell_type": "code",
   "execution_count": 5,
   "metadata": {},
   "outputs": [
    {
     "data": {
      "text/plain": [
       "[<tr> <td>1</td> <td style=\"font-weight: bold; font-size:15px; text-align:left\"><a href=\"/world-population/china-population/\">China</a></td> <td style=\"font-weight: bold;\">1,425,671,352</td> <td>-0.02 %</td> <td>-215,985</td> <td>152</td> <td>9,388,211</td> <td>-310,220</td> <td>1.2</td> <td>39</td> <td>65 %</td> <td>17.72 %</td> </tr>,\n",
       " <tr> <td>2</td> <td style=\"font-weight: bold; font-size:15px; text-align:left\"><a href=\"/world-population/india-population/\">India</a></td> <td style=\"font-weight: bold;\">1,428,627,663</td> <td>0.81 %</td> <td>11,454,490</td> <td>481</td> <td>2,973,190</td> <td>-486,136</td> <td>2.0</td> <td>28</td> <td>36 %</td> <td>17.76 %</td> </tr>,\n",
       " <tr> <td>3</td> <td style=\"font-weight: bold; font-size:15px; text-align:left\"><a href=\"/world-population/indonesia-population/\">Indonesia</a></td> <td style=\"font-weight: bold;\">277,534,122</td> <td>0.74 %</td> <td>2,032,783</td> <td>153</td> <td>1,811,570</td> <td>-49,997</td> <td>2.1</td> <td>30</td> <td>59 %</td> <td>3.45 %</td> </tr>,\n",
       " <tr> <td>4</td> <td style=\"font-weight: bold; font-size:15px; text-align:left\"><a href=\"/world-population/pakistan-population/\">Pakistan</a></td> <td style=\"font-weight: bold;\">240,485,658</td> <td>1.98 %</td> <td>4,660,796</td> <td>312</td> <td>770,880</td> <td>-165,988</td> <td>3.3</td> <td>21</td> <td>35 %</td> <td>2.99 %</td> </tr>,\n",
       " <tr> <td>5</td> <td style=\"font-weight: bold; font-size:15px; text-align:left\"><a href=\"/world-population/bangladesh-population/\">Bangladesh</a></td> <td style=\"font-weight: bold;\">172,954,319</td> <td>1.03 %</td> <td>1,767,947</td> <td>1,329</td> <td>130,170</td> <td>-309,977</td> <td>1.9</td> <td>27</td> <td>41 %</td> <td>2.15 %</td> </tr>,\n",
       " <tr> <td>6</td> <td style=\"font-weight: bold; font-size:15px; text-align:left\"><a href=\"/world-population/japan-population/\">Japan</a></td> <td style=\"font-weight: bold;\">123,294,513</td> <td>-0.53 %</td> <td>-657,179</td> <td>338</td> <td>364,555</td> <td>99,994</td> <td>1.3</td> <td>49</td> <td>94 %</td> <td>1.53 %</td> </tr>,\n",
       " <tr> <td>7</td> <td style=\"font-weight: bold; font-size:15px; text-align:left\"><a href=\"/world-population/philippines-population/\">Philippines</a></td> <td style=\"font-weight: bold;\">117,337,368</td> <td>1.54 %</td> <td>1,778,359</td> <td>394</td> <td>298,170</td> <td>-69,996</td> <td>2.7</td> <td>25</td> <td>47 %</td> <td>1.46 %</td> </tr>,\n",
       " <tr> <td>8</td> <td style=\"font-weight: bold; font-size:15px; text-align:left\"><a href=\"/world-population/vietnam-population/\">Vietnam</a></td> <td style=\"font-weight: bold;\">98,858,950</td> <td>0.68 %</td> <td>672,094</td> <td>319</td> <td>310,070</td> <td>-82,700</td> <td>1.9</td> <td>33</td> <td>40 %</td> <td>1.23 %</td> </tr>,\n",
       " <tr> <td>9</td> <td style=\"font-weight: bold; font-size:15px; text-align:left\"><a href=\"/world-population/iran-population/\">Iran</a></td> <td style=\"font-weight: bold;\">89,172,767</td> <td>0.70 %</td> <td>622,197</td> <td>55</td> <td>1,628,550</td> <td>-39,998</td> <td>1.7</td> <td>33</td> <td>74 %</td> <td>1.11 %</td> </tr>,\n",
       " <tr> <td>10</td> <td style=\"font-weight: bold; font-size:15px; text-align:left\"><a href=\"/world-population/turkey-population/\">Turkey</a></td> <td style=\"font-weight: bold;\">85,816,199</td> <td>0.56 %</td> <td>474,958</td> <td>112</td> <td>769,630</td> <td>-318,067</td> <td>1.9</td> <td>32</td> <td>77 %</td> <td>1.07 %</td> </tr>,\n",
       " <tr> <td>11</td> <td style=\"font-weight: bold; font-size:15px; text-align:left\"><a href=\"/world-population/thailand-population/\">Thailand</a></td> <td style=\"font-weight: bold;\">71,801,279</td> <td>0.15 %</td> <td>104,249</td> <td>141</td> <td>510,890</td> <td>18,999</td> <td>1.3</td> <td>40</td> <td>52 %</td> <td>0.89 %</td> </tr>,\n",
       " <tr> <td>12</td> <td style=\"font-weight: bold; font-size:15px; text-align:left\"><a href=\"/world-population/myanmar-population/\">Myanmar</a></td> <td style=\"font-weight: bold;\">54,577,997</td> <td>0.74 %</td> <td>398,691</td> <td>84</td> <td>653,290</td> <td>-34,998</td> <td>2.1</td> <td>30</td> <td>33 %</td> <td>0.68 %</td> </tr>,\n",
       " <tr> <td>13</td> <td style=\"font-weight: bold; font-size:15px; text-align:left\"><a href=\"/world-population/south-korea-population/\">South Korea</a></td> <td style=\"font-weight: bold;\">51,784,059</td> <td>-0.06 %</td> <td>-31,751</td> <td>533</td> <td>97,230</td> <td>29,998</td> <td>0.9</td> <td>44</td> <td>82 %</td> <td>0.64 %</td> </tr>,\n",
       " <tr> <td>14</td> <td style=\"font-weight: bold; font-size:15px; text-align:left\"><a href=\"/world-population/iraq-population/\">Iraq</a></td> <td style=\"font-weight: bold;\">45,504,560</td> <td>2.27 %</td> <td>1,008,438</td> <td>105</td> <td>434,320</td> <td>-6,000</td> <td>3.4</td> <td>20</td> <td>71 %</td> <td>0.57 %</td> </tr>,\n",
       " <tr> <td>15</td> <td style=\"font-weight: bold; font-size:15px; text-align:left\"><a href=\"/world-population/afghanistan-population/\">Afghanistan</a></td> <td style=\"font-weight: bold;\">42,239,854</td> <td>2.70 %</td> <td>1,111,083</td> <td>65</td> <td>652,860</td> <td>-65,846</td> <td>4.4</td> <td>17</td> <td>26 %</td> <td>0.53 %</td> </tr>,\n",
       " <tr> <td>16</td> <td style=\"font-weight: bold; font-size:15px; text-align:left\"><a href=\"/world-population/saudi-arabia-population/\">Saudi Arabia</a></td> <td style=\"font-weight: bold;\">36,947,025</td> <td>1.48 %</td> <td>538,205</td> <td>17</td> <td>2,149,690</td> <td>28,998</td> <td>2.4</td> <td>31</td> <td>83 %</td> <td>0.46 %</td> </tr>,\n",
       " <tr> <td>17</td> <td style=\"font-weight: bold; font-size:15px; text-align:left\"><a href=\"/world-population/uzbekistan-population/\">Uzbekistan</a></td> <td style=\"font-weight: bold;\">35,163,944</td> <td>1.55 %</td> <td>536,292</td> <td>83</td> <td>425,400</td> <td>-19,999</td> <td>2.8</td> <td>27</td> <td>49 %</td> <td>0.44 %</td> </tr>,\n",
       " <tr> <td>18</td> <td style=\"font-weight: bold; font-size:15px; text-align:left\"><a href=\"/world-population/malaysia-population/\">Malaysia</a></td> <td style=\"font-weight: bold;\">34,308,525</td> <td>1.09 %</td> <td>370,304</td> <td>104</td> <td>328,550</td> <td>48,997</td> <td>1.8</td> <td>31</td> <td>78 %</td> <td>0.43 %</td> </tr>,\n",
       " <tr> <td>19</td> <td style=\"font-weight: bold; font-size:15px; text-align:left\"><a href=\"/world-population/yemen-population/\">Yemen</a></td> <td style=\"font-weight: bold;\">34,449,825</td> <td>2.24 %</td> <td>753,211</td> <td>65</td> <td>527,970</td> <td>-29,914</td> <td>3.6</td> <td>19</td> <td>37 %</td> <td>0.43 %</td> </tr>,\n",
       " <tr> <td>20</td> <td style=\"font-weight: bold; font-size:15px; text-align:left\"><a href=\"/world-population/nepal-population/\">Nepal</a></td> <td style=\"font-weight: bold;\">30,896,590</td> <td>1.14 %</td> <td>349,010</td> <td>216</td> <td>143,350</td> <td>-62,012</td> <td>2.0</td> <td>24</td> <td>22 %</td> <td>0.38 %</td> </tr>,\n",
       " <tr> <td>21</td> <td style=\"font-weight: bold; font-size:15px; text-align:left\"><a href=\"/world-population/north-korea-population/\">North Korea</a></td> <td style=\"font-weight: bold;\">26,160,821</td> <td>0.35 %</td> <td>91,405</td> <td>217</td> <td>120,410</td> <td>-2,000</td> <td>1.8</td> <td>36</td> <td>63 %</td> <td>0.33 %</td> </tr>,\n",
       " <tr> <td>22</td> <td style=\"font-weight: bold; font-size:15px; text-align:left\"><a href=\"/world-population/taiwan-population/\">Taiwan</a></td> <td style=\"font-weight: bold;\">23,923,276</td> <td>0.13 %</td> <td>29,882</td> <td>676</td> <td>35,410</td> <td>23,999</td> <td>1.2</td> <td>42</td> <td>80 %</td> <td>0.30 %</td> </tr>,\n",
       " <tr> <td>23</td> <td style=\"font-weight: bold; font-size:15px; text-align:left\"><a href=\"/world-population/sri-lanka-population/\">Sri Lanka</a></td> <td style=\"font-weight: bold;\">21,893,579</td> <td>0.28 %</td> <td>61,436</td> <td>349</td> <td>62,710</td> <td>-77,495</td> <td>2.0</td> <td>33</td> <td>19 %</td> <td>0.27 %</td> </tr>,\n",
       " <tr> <td>24</td> <td style=\"font-weight: bold; font-size:15px; text-align:left\"><a href=\"/world-population/syria-population/\">Syria</a></td> <td style=\"font-weight: bold;\">23,227,014</td> <td>4.98 %</td> <td>1,101,765</td> <td>126</td> <td>183,630</td> <td>757,103</td> <td>2.7</td> <td>22</td> <td>53 %</td> <td>0.29 %</td> </tr>,\n",
       " <tr> <td>25</td> <td style=\"font-weight: bold; font-size:15px; text-align:left\"><a href=\"/world-population/kazakhstan-population/\">Kazakhstan</a></td> <td style=\"font-weight: bold;\">19,606,633</td> <td>1.08 %</td> <td>208,635</td> <td>7</td> <td>2,699,700</td> <td>0</td> <td>3.0</td> <td>30</td> <td>57 %</td> <td>0.24 %</td> </tr>,\n",
       " <tr> <td>26</td> <td style=\"font-weight: bold; font-size:15px; text-align:left\"><a href=\"/world-population/cambodia-population/\">Cambodia</a></td> <td style=\"font-weight: bold;\">16,944,826</td> <td>1.06 %</td> <td>176,984</td> <td>96</td> <td>176,520</td> <td>-29,998</td> <td>2.3</td> <td>27</td> <td>26 %</td> <td>0.21 %</td> </tr>,\n",
       " <tr> <td>27</td> <td style=\"font-weight: bold; font-size:15px; text-align:left\"><a href=\"/world-population/jordan-population/\">Jordan</a></td> <td style=\"font-weight: bold;\">11,337,052</td> <td>0.45 %</td> <td>51,183</td> <td>128</td> <td>88,780</td> <td>-157,392</td> <td>2.7</td> <td>24</td> <td>85 %</td> <td>0.14 %</td> </tr>,\n",
       " <tr> <td>28</td> <td style=\"font-weight: bold; font-size:15px; text-align:left\"><a href=\"/world-population/azerbaijan-population/\">Azerbaijan</a></td> <td style=\"font-weight: bold;\">10,412,651</td> <td>0.53 %</td> <td>54,577</td> <td>126</td> <td>82,658</td> <td>0</td> <td>1.7</td> <td>32</td> <td>57 %</td> <td>0.13 %</td> </tr>,\n",
       " <tr> <td>29</td> <td style=\"font-weight: bold; font-size:15px; text-align:left\"><a href=\"/world-population/tajikistan-population/\">Tajikistan</a></td> <td style=\"font-weight: bold;\">10,143,543</td> <td>1.92 %</td> <td>190,756</td> <td>72</td> <td>139,960</td> <td>-19,999</td> <td>3.1</td> <td>22</td> <td>28 %</td> <td>0.13 %</td> </tr>,\n",
       " <tr> <td>30</td> <td style=\"font-weight: bold; font-size:15px; text-align:left\"><a href=\"/world-population/united-arab-emirates-population/\">United Arab Emirates</a></td> <td style=\"font-weight: bold;\">9,516,871</td> <td>0.80 %</td> <td>75,742</td> <td>114</td> <td>83,600</td> <td>0</td> <td>1.4</td> <td>34</td> <td>94 %</td> <td>0.12 %</td> </tr>,\n",
       " <tr> <td>31</td> <td style=\"font-weight: bold; font-size:15px; text-align:left\"><a href=\"/world-population/israel-population/\">Israel</a></td> <td style=\"font-weight: bold;\">9,174,520</td> <td>1.51 %</td> <td>136,211</td> <td>424</td> <td>21,640</td> <td>9,999</td> <td>2.9</td> <td>29</td> <td>92 %</td> <td>0.11 %</td> </tr>,\n",
       " <tr> <td>32</td> <td style=\"font-weight: bold; font-size:15px; text-align:left\"><a href=\"/world-population/china-hong-kong-sar-population/\">Hong Kong</a></td> <td style=\"font-weight: bold;\">7,491,609</td> <td>0.04 %</td> <td>2,744</td> <td>7,135</td> <td>1,050</td> <td>19,999</td> <td>0.8</td> <td>46</td> <td>N.A.</td> <td>0.09 %</td> </tr>,\n",
       " <tr> <td>33</td> <td style=\"font-weight: bold; font-size:15px; text-align:left\"><a href=\"/world-population/laos-population/\">Laos</a></td> <td style=\"font-weight: bold;\">7,633,779</td> <td>1.39 %</td> <td>104,304</td> <td>33</td> <td>230,800</td> <td>-9,999</td> <td>2.4</td> <td>24</td> <td>37 %</td> <td>0.09 %</td> </tr>,\n",
       " <tr> <td>34</td> <td style=\"font-weight: bold; font-size:15px; text-align:left\"><a href=\"/world-population/kyrgyzstan-population/\">Kyrgyzstan</a></td> <td style=\"font-weight: bold;\">6,735,347</td> <td>1.58 %</td> <td>104,724</td> <td>35</td> <td>191,800</td> <td>-9,999</td> <td>2.9</td> <td>24</td> <td>37 %</td> <td>0.08 %</td> </tr>,\n",
       " <tr> <td>35</td> <td style=\"font-weight: bold; font-size:15px; text-align:left\"><a href=\"/world-population/turkmenistan-population/\">Turkmenistan</a></td> <td style=\"font-weight: bold;\">6,516,100</td> <td>1.33 %</td> <td>85,330</td> <td>14</td> <td>469,930</td> <td>-4,000</td> <td>2.6</td> <td>26</td> <td>52 %</td> <td>0.08 %</td> </tr>,\n",
       " <tr> <td>36</td> <td style=\"font-weight: bold; font-size:15px; text-align:left\"><a href=\"/world-population/singapore-population/\">Singapore</a></td> <td style=\"font-weight: bold;\">6,014,723</td> <td>0.65 %</td> <td>39,034</td> <td>8,592</td> <td>700</td> <td>26,998</td> <td>1.0</td> <td>43</td> <td>N.A.</td> <td>0.07 %</td> </tr>,\n",
       " <tr> <td>37</td> <td style=\"font-weight: bold; font-size:15px; text-align:left\"><a href=\"/world-population/lebanon-population/\">Lebanon</a></td> <td style=\"font-weight: bold;\">5,353,930</td> <td>-2.47 %</td> <td>-135,809</td> <td>523</td> <td>10,230</td> <td>-177,331</td> <td>2.1</td> <td>29</td> <td>97 %</td> <td>0.07 %</td> </tr>,\n",
       " <tr> <td>38</td> <td style=\"font-weight: bold; font-size:15px; text-align:left\"><a href=\"/world-population/state-of-palestine-population/\">State of Palestine</a></td> <td style=\"font-weight: bold;\">5,371,230</td> <td>2.31 %</td> <td>121,158</td> <td>892</td> <td>6,020</td> <td>-5,000</td> <td>3.4</td> <td>20</td> <td>83 %</td> <td>0.07 %</td> </tr>,\n",
       " <tr> <td>39</td> <td style=\"font-weight: bold; font-size:15px; text-align:left\"><a href=\"/world-population/oman-population/\">Oman</a></td> <td style=\"font-weight: bold;\">4,644,384</td> <td>1.49 %</td> <td>68,086</td> <td>15</td> <td>309,500</td> <td>0</td> <td>2.5</td> <td>29</td> <td>N.A.</td> <td>0.06 %</td> </tr>,\n",
       " <tr> <td>40</td> <td style=\"font-weight: bold; font-size:15px; text-align:left\"><a href=\"/world-population/kuwait-population/\">Kuwait</a></td> <td style=\"font-weight: bold;\">4,310,108</td> <td>0.97 %</td> <td>41,235</td> <td>242</td> <td>17,820</td> <td>11,999</td> <td>2.1</td> <td>40</td> <td>N.A.</td> <td>0.05 %</td> </tr>,\n",
       " <tr> <td>41</td> <td style=\"font-weight: bold; font-size:15px; text-align:left\"><a href=\"/world-population/georgia-population/\">Georgia</a></td> <td style=\"font-weight: bold;\">3,728,282</td> <td>-0.43 %</td> <td>-16,103</td> <td>54</td> <td>69,490</td> <td>-9,999</td> <td>2.1</td> <td>37</td> <td>63 %</td> <td>0.05 %</td> </tr>,\n",
       " <tr> <td>42</td> <td style=\"font-weight: bold; font-size:15px; text-align:left\"><a href=\"/world-population/mongolia-population/\">Mongolia</a></td> <td style=\"font-weight: bold;\">3,447,157</td> <td>1.44 %</td> <td>48,791</td> <td>2</td> <td>1,553,560</td> <td>-850</td> <td>2.7</td> <td>27</td> <td>67 %</td> <td>0.04 %</td> </tr>,\n",
       " <tr> <td>43</td> <td style=\"font-weight: bold; font-size:15px; text-align:left\"><a href=\"/world-population/armenia-population/\">Armenia</a></td> <td style=\"font-weight: bold;\">2,777,970</td> <td>-0.09 %</td> <td>-2,499</td> <td>98</td> <td>28,470</td> <td>-5,000</td> <td>1.6</td> <td>35</td> <td>67 %</td> <td>0.03 %</td> </tr>,\n",
       " <tr> <td>44</td> <td style=\"font-weight: bold; font-size:15px; text-align:left\"><a href=\"/world-population/qatar-population/\">Qatar</a></td> <td style=\"font-weight: bold;\">2,716,391</td> <td>0.79 %</td> <td>21,269</td> <td>234</td> <td>11,610</td> <td>0</td> <td>1.8</td> <td>34</td> <td>N.A.</td> <td>0.03 %</td> </tr>,\n",
       " <tr> <td>45</td> <td style=\"font-weight: bold; font-size:15px; text-align:left\"><a href=\"/world-population/bahrain-population/\">Bahrain</a></td> <td style=\"font-weight: bold;\">1,485,509</td> <td>0.90 %</td> <td>13,276</td> <td>1,955</td> <td>760</td> <td>0</td> <td>1.8</td> <td>34</td> <td>N.A.</td> <td>0.02 %</td> </tr>,\n",
       " <tr> <td>46</td> <td style=\"font-weight: bold; font-size:15px; text-align:left\"><a href=\"/world-population/timor-leste-population/\">Timor-Leste</a></td> <td style=\"font-weight: bold;\">1,360,596</td> <td>1.44 %</td> <td>19,300</td> <td>91</td> <td>14,870</td> <td>-5,000</td> <td>3.0</td> <td>21</td> <td>35 %</td> <td>0.02 %</td> </tr>,\n",
       " <tr> <td>47</td> <td style=\"font-weight: bold; font-size:15px; text-align:left\"><a href=\"/world-population/cyprus-population/\">Cyprus</a></td> <td style=\"font-weight: bold;\">1,260,138</td> <td>0.69 %</td> <td>8,650</td> <td>136</td> <td>9,240</td> <td>5,000</td> <td>1.3</td> <td>39</td> <td>65 %</td> <td>0.02 %</td> </tr>,\n",
       " <tr> <td>48</td> <td style=\"font-weight: bold; font-size:15px; text-align:left\"><a href=\"/world-population/bhutan-population/\">Bhutan</a></td> <td style=\"font-weight: bold;\">787,424</td> <td>0.64 %</td> <td>4,969</td> <td>21</td> <td>38,117</td> <td>300</td> <td>1.4</td> <td>29</td> <td>49 %</td> <td>0.01 %</td> </tr>,\n",
       " <tr> <td>49</td> <td style=\"font-weight: bold; font-size:15px; text-align:left\"><a href=\"/world-population/china-macao-sar-population/\">Macao</a></td> <td style=\"font-weight: bold;\">704,149</td> <td>1.29 %</td> <td>8,981</td> <td>23,472</td> <td>30</td> <td>5,000</td> <td>1.1</td> <td>39</td> <td>97 %</td> <td>0.01 %</td> </tr>,\n",
       " <tr> <td>50</td> <td style=\"font-weight: bold; font-size:15px; text-align:left\"><a href=\"/world-population/maldives-population/\">Maldives</a></td> <td style=\"font-weight: bold;\">521,021</td> <td>-0.53 %</td> <td>-2,766</td> <td>1,737</td> <td>300</td> <td>-8,652</td> <td>1.7</td> <td>32</td> <td>39 %</td> <td>0.01 %</td> </tr>,\n",
       " <tr> <td>51</td> <td style=\"font-weight: bold; font-size:15px; text-align:left\"><a href=\"/world-population/brunei-darussalam-population/\">Brunei </a></td> <td style=\"font-weight: bold;\">452,524</td> <td>0.78 %</td> <td>3,522</td> <td>86</td> <td>5,270</td> <td>0</td> <td>1.7</td> <td>33</td> <td>80 %</td> <td>0.01 %</td> </tr>]"
      ]
     },
     "execution_count": 5,
     "metadata": {},
     "output_type": "execute_result"
    }
   ],
   "source": [
    "rows = table.find_all('tr')\n",
    "rows"
   ]
  },
  {
   "cell_type": "markdown",
   "metadata": {},
   "source": [
    "### getting text data from the table and making list of column info"
   ]
  },
  {
   "cell_type": "code",
   "execution_count": 6,
   "metadata": {},
   "outputs": [],
   "source": [
    "col_info = []\n",
    "\n",
    "for i in rows:\n",
    "    cols= i.find_all('td')\n",
    "    pop_info= [j.text for j in cols]\n",
    "\n",
    "    col_info.append(pop_info)"
   ]
  },
  {
   "cell_type": "code",
   "execution_count": 7,
   "metadata": {},
   "outputs": [
    {
     "name": "stdout",
     "output_type": "stream",
     "text": [
      "[['1', 'China', '1,425,671,352', '-0.02 %', '-215,985', '152', '9,388,211', '-310,220', '1.2', '39', '65 %', '17.72 %'], ['2', 'India', '1,428,627,663', '0.81 %', '11,454,490', '481', '2,973,190', '-486,136', '2.0', '28', '36 %', '17.76 %'], ['3', 'Indonesia', '277,534,122', '0.74 %', '2,032,783', '153', '1,811,570', '-49,997', '2.1', '30', '59 %', '3.45 %'], ['4', 'Pakistan', '240,485,658', '1.98 %', '4,660,796', '312', '770,880', '-165,988', '3.3', '21', '35 %', '2.99 %'], ['5', 'Bangladesh', '172,954,319', '1.03 %', '1,767,947', '1,329', '130,170', '-309,977', '1.9', '27', '41 %', '2.15 %'], ['6', 'Japan', '123,294,513', '-0.53 %', '-657,179', '338', '364,555', '99,994', '1.3', '49', '94 %', '1.53 %'], ['7', 'Philippines', '117,337,368', '1.54 %', '1,778,359', '394', '298,170', '-69,996', '2.7', '25', '47 %', '1.46 %'], ['8', 'Vietnam', '98,858,950', '0.68 %', '672,094', '319', '310,070', '-82,700', '1.9', '33', '40 %', '1.23 %'], ['9', 'Iran', '89,172,767', '0.70 %', '622,197', '55', '1,628,550', '-39,998', '1.7', '33', '74 %', '1.11 %'], ['10', 'Turkey', '85,816,199', '0.56 %', '474,958', '112', '769,630', '-318,067', '1.9', '32', '77 %', '1.07 %'], ['11', 'Thailand', '71,801,279', '0.15 %', '104,249', '141', '510,890', '18,999', '1.3', '40', '52 %', '0.89 %'], ['12', 'Myanmar', '54,577,997', '0.74 %', '398,691', '84', '653,290', '-34,998', '2.1', '30', '33 %', '0.68 %'], ['13', 'South Korea', '51,784,059', '-0.06 %', '-31,751', '533', '97,230', '29,998', '0.9', '44', '82 %', '0.64 %'], ['14', 'Iraq', '45,504,560', '2.27 %', '1,008,438', '105', '434,320', '-6,000', '3.4', '20', '71 %', '0.57 %'], ['15', 'Afghanistan', '42,239,854', '2.70 %', '1,111,083', '65', '652,860', '-65,846', '4.4', '17', '26 %', '0.53 %'], ['16', 'Saudi Arabia', '36,947,025', '1.48 %', '538,205', '17', '2,149,690', '28,998', '2.4', '31', '83 %', '0.46 %'], ['17', 'Uzbekistan', '35,163,944', '1.55 %', '536,292', '83', '425,400', '-19,999', '2.8', '27', '49 %', '0.44 %'], ['18', 'Malaysia', '34,308,525', '1.09 %', '370,304', '104', '328,550', '48,997', '1.8', '31', '78 %', '0.43 %'], ['19', 'Yemen', '34,449,825', '2.24 %', '753,211', '65', '527,970', '-29,914', '3.6', '19', '37 %', '0.43 %'], ['20', 'Nepal', '30,896,590', '1.14 %', '349,010', '216', '143,350', '-62,012', '2.0', '24', '22 %', '0.38 %'], ['21', 'North Korea', '26,160,821', '0.35 %', '91,405', '217', '120,410', '-2,000', '1.8', '36', '63 %', '0.33 %'], ['22', 'Taiwan', '23,923,276', '0.13 %', '29,882', '676', '35,410', '23,999', '1.2', '42', '80 %', '0.30 %'], ['23', 'Sri Lanka', '21,893,579', '0.28 %', '61,436', '349', '62,710', '-77,495', '2.0', '33', '19 %', '0.27 %'], ['24', 'Syria', '23,227,014', '4.98 %', '1,101,765', '126', '183,630', '757,103', '2.7', '22', '53 %', '0.29 %'], ['25', 'Kazakhstan', '19,606,633', '1.08 %', '208,635', '7', '2,699,700', '0', '3.0', '30', '57 %', '0.24 %'], ['26', 'Cambodia', '16,944,826', '1.06 %', '176,984', '96', '176,520', '-29,998', '2.3', '27', '26 %', '0.21 %'], ['27', 'Jordan', '11,337,052', '0.45 %', '51,183', '128', '88,780', '-157,392', '2.7', '24', '85 %', '0.14 %'], ['28', 'Azerbaijan', '10,412,651', '0.53 %', '54,577', '126', '82,658', '0', '1.7', '32', '57 %', '0.13 %'], ['29', 'Tajikistan', '10,143,543', '1.92 %', '190,756', '72', '139,960', '-19,999', '3.1', '22', '28 %', '0.13 %'], ['30', 'United Arab Emirates', '9,516,871', '0.80 %', '75,742', '114', '83,600', '0', '1.4', '34', '94 %', '0.12 %'], ['31', 'Israel', '9,174,520', '1.51 %', '136,211', '424', '21,640', '9,999', '2.9', '29', '92 %', '0.11 %'], ['32', 'Hong Kong', '7,491,609', '0.04 %', '2,744', '7,135', '1,050', '19,999', '0.8', '46', 'N.A.', '0.09 %'], ['33', 'Laos', '7,633,779', '1.39 %', '104,304', '33', '230,800', '-9,999', '2.4', '24', '37 %', '0.09 %'], ['34', 'Kyrgyzstan', '6,735,347', '1.58 %', '104,724', '35', '191,800', '-9,999', '2.9', '24', '37 %', '0.08 %'], ['35', 'Turkmenistan', '6,516,100', '1.33 %', '85,330', '14', '469,930', '-4,000', '2.6', '26', '52 %', '0.08 %'], ['36', 'Singapore', '6,014,723', '0.65 %', '39,034', '8,592', '700', '26,998', '1.0', '43', 'N.A.', '0.07 %'], ['37', 'Lebanon', '5,353,930', '-2.47 %', '-135,809', '523', '10,230', '-177,331', '2.1', '29', '97 %', '0.07 %'], ['38', 'State of Palestine', '5,371,230', '2.31 %', '121,158', '892', '6,020', '-5,000', '3.4', '20', '83 %', '0.07 %'], ['39', 'Oman', '4,644,384', '1.49 %', '68,086', '15', '309,500', '0', '2.5', '29', 'N.A.', '0.06 %'], ['40', 'Kuwait', '4,310,108', '0.97 %', '41,235', '242', '17,820', '11,999', '2.1', '40', 'N.A.', '0.05 %'], ['41', 'Georgia', '3,728,282', '-0.43 %', '-16,103', '54', '69,490', '-9,999', '2.1', '37', '63 %', '0.05 %'], ['42', 'Mongolia', '3,447,157', '1.44 %', '48,791', '2', '1,553,560', '-850', '2.7', '27', '67 %', '0.04 %'], ['43', 'Armenia', '2,777,970', '-0.09 %', '-2,499', '98', '28,470', '-5,000', '1.6', '35', '67 %', '0.03 %'], ['44', 'Qatar', '2,716,391', '0.79 %', '21,269', '234', '11,610', '0', '1.8', '34', 'N.A.', '0.03 %'], ['45', 'Bahrain', '1,485,509', '0.90 %', '13,276', '1,955', '760', '0', '1.8', '34', 'N.A.', '0.02 %'], ['46', 'Timor-Leste', '1,360,596', '1.44 %', '19,300', '91', '14,870', '-5,000', '3.0', '21', '35 %', '0.02 %'], ['47', 'Cyprus', '1,260,138', '0.69 %', '8,650', '136', '9,240', '5,000', '1.3', '39', '65 %', '0.02 %'], ['48', 'Bhutan', '787,424', '0.64 %', '4,969', '21', '38,117', '300', '1.4', '29', '49 %', '0.01 %'], ['49', 'Macao', '704,149', '1.29 %', '8,981', '23,472', '30', '5,000', '1.1', '39', '97 %', '0.01 %'], ['50', 'Maldives', '521,021', '-0.53 %', '-2,766', '1,737', '300', '-8,652', '1.7', '32', '39 %', '0.01 %'], ['51', 'Brunei ', '452,524', '0.78 %', '3,522', '86', '5,270', '0', '1.7', '33', '80 %', '0.01 %']]\n"
     ]
    }
   ],
   "source": [
    "#column info\n",
    "print(col_info)"
   ]
  },
  {
   "cell_type": "markdown",
   "metadata": {},
   "source": [
    "### Making list of columns headers"
   ]
  },
  {
   "cell_type": "code",
   "execution_count": 8,
   "metadata": {},
   "outputs": [],
   "source": [
    "index=[]\n",
    "Country=[]\n",
    "Population=[]\n",
    "Yearly_Change=[]\n",
    "Net_Change =[]\n",
    "Density=[]\n",
    "Land_Area=[]\n",
    "Migrants=[]\n",
    "Fert_Rate=[]\n",
    "Med_Age=[]\n",
    "Urban_Pop=[]\n",
    "World_Share=[]\n",
    "\n",
    "# appending coloumn values to the list\n",
    "for i in col_info:\n",
    "    index.append(i[0])\n",
    "    Country.append(i[1])\n",
    "    Population.append(i[2])\n",
    "    Yearly_Change.append(i[3])\n",
    "    Net_Change.append(i[4])\n",
    "    Density.append(i[5])\n",
    "    Land_Area.append(i[6])\n",
    "    Migrants.append(i[7])\n",
    "    Fert_Rate.append(i[8])\n",
    "    Med_Age.append(i[9])\n",
    "    Urban_Pop.append(i[10])\n",
    "    World_Share.append(i[11])"
   ]
  },
  {
   "cell_type": "markdown",
   "metadata": {},
   "source": [
    "### making dictionary of column heads and column info"
   ]
  },
  {
   "cell_type": "code",
   "execution_count": 9,
   "metadata": {},
   "outputs": [],
   "source": [
    "Data= {\n",
    "\"Number\":index,\n",
    "\"Country\":Country,\n",
    "\"Population\":Population,\n",
    "\"Yearly_Change\":Yearly_Change,\n",
    "'Net_Change':Net_Change,\n",
    "'Density':Density,               \n",
    "'Land_Area':Land_Area,\n",
    "'Migrants':Migrants,\n",
    "'Fert_Rate':Fert_Rate,\n",
    "'Med_Age':Med_Age,\n",
    "'Urban_Pop':Urban_Pop,\n",
    "'World_Share':World_Share\n",
    "}"
   ]
  },
  {
   "cell_type": "code",
   "execution_count": 10,
   "metadata": {},
   "outputs": [
    {
     "name": "stdout",
     "output_type": "stream",
     "text": [
      "{'Number': ['1', '2', '3', '4', '5', '6', '7', '8', '9', '10', '11', '12', '13', '14', '15', '16', '17', '18', '19', '20', '21', '22', '23', '24', '25', '26', '27', '28', '29', '30', '31', '32', '33', '34', '35', '36', '37', '38', '39', '40', '41', '42', '43', '44', '45', '46', '47', '48', '49', '50', '51'], 'Country': ['China', 'India', 'Indonesia', 'Pakistan', 'Bangladesh', 'Japan', 'Philippines', 'Vietnam', 'Iran', 'Turkey', 'Thailand', 'Myanmar', 'South Korea', 'Iraq', 'Afghanistan', 'Saudi Arabia', 'Uzbekistan', 'Malaysia', 'Yemen', 'Nepal', 'North Korea', 'Taiwan', 'Sri Lanka', 'Syria', 'Kazakhstan', 'Cambodia', 'Jordan', 'Azerbaijan', 'Tajikistan', 'United Arab Emirates', 'Israel', 'Hong Kong', 'Laos', 'Kyrgyzstan', 'Turkmenistan', 'Singapore', 'Lebanon', 'State of Palestine', 'Oman', 'Kuwait', 'Georgia', 'Mongolia', 'Armenia', 'Qatar', 'Bahrain', 'Timor-Leste', 'Cyprus', 'Bhutan', 'Macao', 'Maldives', 'Brunei '], 'Population': ['1,425,671,352', '1,428,627,663', '277,534,122', '240,485,658', '172,954,319', '123,294,513', '117,337,368', '98,858,950', '89,172,767', '85,816,199', '71,801,279', '54,577,997', '51,784,059', '45,504,560', '42,239,854', '36,947,025', '35,163,944', '34,308,525', '34,449,825', '30,896,590', '26,160,821', '23,923,276', '21,893,579', '23,227,014', '19,606,633', '16,944,826', '11,337,052', '10,412,651', '10,143,543', '9,516,871', '9,174,520', '7,491,609', '7,633,779', '6,735,347', '6,516,100', '6,014,723', '5,353,930', '5,371,230', '4,644,384', '4,310,108', '3,728,282', '3,447,157', '2,777,970', '2,716,391', '1,485,509', '1,360,596', '1,260,138', '787,424', '704,149', '521,021', '452,524'], 'Yearly_Change': ['-0.02 %', '0.81 %', '0.74 %', '1.98 %', '1.03 %', '-0.53 %', '1.54 %', '0.68 %', '0.70 %', '0.56 %', '0.15 %', '0.74 %', '-0.06 %', '2.27 %', '2.70 %', '1.48 %', '1.55 %', '1.09 %', '2.24 %', '1.14 %', '0.35 %', '0.13 %', '0.28 %', '4.98 %', '1.08 %', '1.06 %', '0.45 %', '0.53 %', '1.92 %', '0.80 %', '1.51 %', '0.04 %', '1.39 %', '1.58 %', '1.33 %', '0.65 %', '-2.47 %', '2.31 %', '1.49 %', '0.97 %', '-0.43 %', '1.44 %', '-0.09 %', '0.79 %', '0.90 %', '1.44 %', '0.69 %', '0.64 %', '1.29 %', '-0.53 %', '0.78 %'], 'Net_Change': ['-215,985', '11,454,490', '2,032,783', '4,660,796', '1,767,947', '-657,179', '1,778,359', '672,094', '622,197', '474,958', '104,249', '398,691', '-31,751', '1,008,438', '1,111,083', '538,205', '536,292', '370,304', '753,211', '349,010', '91,405', '29,882', '61,436', '1,101,765', '208,635', '176,984', '51,183', '54,577', '190,756', '75,742', '136,211', '2,744', '104,304', '104,724', '85,330', '39,034', '-135,809', '121,158', '68,086', '41,235', '-16,103', '48,791', '-2,499', '21,269', '13,276', '19,300', '8,650', '4,969', '8,981', '-2,766', '3,522'], 'Density': ['152', '481', '153', '312', '1,329', '338', '394', '319', '55', '112', '141', '84', '533', '105', '65', '17', '83', '104', '65', '216', '217', '676', '349', '126', '7', '96', '128', '126', '72', '114', '424', '7,135', '33', '35', '14', '8,592', '523', '892', '15', '242', '54', '2', '98', '234', '1,955', '91', '136', '21', '23,472', '1,737', '86'], 'Land_Area': ['9,388,211', '2,973,190', '1,811,570', '770,880', '130,170', '364,555', '298,170', '310,070', '1,628,550', '769,630', '510,890', '653,290', '97,230', '434,320', '652,860', '2,149,690', '425,400', '328,550', '527,970', '143,350', '120,410', '35,410', '62,710', '183,630', '2,699,700', '176,520', '88,780', '82,658', '139,960', '83,600', '21,640', '1,050', '230,800', '191,800', '469,930', '700', '10,230', '6,020', '309,500', '17,820', '69,490', '1,553,560', '28,470', '11,610', '760', '14,870', '9,240', '38,117', '30', '300', '5,270'], 'Migrants': ['-310,220', '-486,136', '-49,997', '-165,988', '-309,977', '99,994', '-69,996', '-82,700', '-39,998', '-318,067', '18,999', '-34,998', '29,998', '-6,000', '-65,846', '28,998', '-19,999', '48,997', '-29,914', '-62,012', '-2,000', '23,999', '-77,495', '757,103', '0', '-29,998', '-157,392', '0', '-19,999', '0', '9,999', '19,999', '-9,999', '-9,999', '-4,000', '26,998', '-177,331', '-5,000', '0', '11,999', '-9,999', '-850', '-5,000', '0', '0', '-5,000', '5,000', '300', '5,000', '-8,652', '0'], 'Fert_Rate': ['1.2', '2.0', '2.1', '3.3', '1.9', '1.3', '2.7', '1.9', '1.7', '1.9', '1.3', '2.1', '0.9', '3.4', '4.4', '2.4', '2.8', '1.8', '3.6', '2.0', '1.8', '1.2', '2.0', '2.7', '3.0', '2.3', '2.7', '1.7', '3.1', '1.4', '2.9', '0.8', '2.4', '2.9', '2.6', '1.0', '2.1', '3.4', '2.5', '2.1', '2.1', '2.7', '1.6', '1.8', '1.8', '3.0', '1.3', '1.4', '1.1', '1.7', '1.7'], 'Med_Age': ['39', '28', '30', '21', '27', '49', '25', '33', '33', '32', '40', '30', '44', '20', '17', '31', '27', '31', '19', '24', '36', '42', '33', '22', '30', '27', '24', '32', '22', '34', '29', '46', '24', '24', '26', '43', '29', '20', '29', '40', '37', '27', '35', '34', '34', '21', '39', '29', '39', '32', '33'], 'Urban_Pop': ['65 %', '36 %', '59 %', '35 %', '41 %', '94 %', '47 %', '40 %', '74 %', '77 %', '52 %', '33 %', '82 %', '71 %', '26 %', '83 %', '49 %', '78 %', '37 %', '22 %', '63 %', '80 %', '19 %', '53 %', '57 %', '26 %', '85 %', '57 %', '28 %', '94 %', '92 %', 'N.A.', '37 %', '37 %', '52 %', 'N.A.', '97 %', '83 %', 'N.A.', 'N.A.', '63 %', '67 %', '67 %', 'N.A.', 'N.A.', '35 %', '65 %', '49 %', '97 %', '39 %', '80 %'], 'World_Share': ['17.72 %', '17.76 %', '3.45 %', '2.99 %', '2.15 %', '1.53 %', '1.46 %', '1.23 %', '1.11 %', '1.07 %', '0.89 %', '0.68 %', '0.64 %', '0.57 %', '0.53 %', '0.46 %', '0.44 %', '0.43 %', '0.43 %', '0.38 %', '0.33 %', '0.30 %', '0.27 %', '0.29 %', '0.24 %', '0.21 %', '0.14 %', '0.13 %', '0.13 %', '0.12 %', '0.11 %', '0.09 %', '0.09 %', '0.08 %', '0.08 %', '0.07 %', '0.07 %', '0.07 %', '0.06 %', '0.05 %', '0.05 %', '0.04 %', '0.03 %', '0.03 %', '0.02 %', '0.02 %', '0.02 %', '0.01 %', '0.01 %', '0.01 %', '0.01 %']}\n"
     ]
    }
   ],
   "source": [
    "print(Data)"
   ]
  },
  {
   "cell_type": "markdown",
   "metadata": {},
   "source": [
    "### Creating Dataframe"
   ]
  },
  {
   "cell_type": "code",
   "execution_count": 11,
   "metadata": {},
   "outputs": [
    {
     "data": {
      "text/html": [
       "<div>\n",
       "<style scoped>\n",
       "    .dataframe tbody tr th:only-of-type {\n",
       "        vertical-align: middle;\n",
       "    }\n",
       "\n",
       "    .dataframe tbody tr th {\n",
       "        vertical-align: top;\n",
       "    }\n",
       "\n",
       "    .dataframe thead th {\n",
       "        text-align: right;\n",
       "    }\n",
       "</style>\n",
       "<table border=\"1\" class=\"dataframe\">\n",
       "  <thead>\n",
       "    <tr style=\"text-align: right;\">\n",
       "      <th></th>\n",
       "      <th>Number</th>\n",
       "      <th>Country</th>\n",
       "      <th>Population</th>\n",
       "      <th>Yearly_Change</th>\n",
       "      <th>Net_Change</th>\n",
       "      <th>Density</th>\n",
       "      <th>Land_Area</th>\n",
       "      <th>Migrants</th>\n",
       "      <th>Fert_Rate</th>\n",
       "      <th>Med_Age</th>\n",
       "      <th>Urban_Pop</th>\n",
       "      <th>World_Share</th>\n",
       "    </tr>\n",
       "  </thead>\n",
       "  <tbody>\n",
       "    <tr>\n",
       "      <th>0</th>\n",
       "      <td>1</td>\n",
       "      <td>China</td>\n",
       "      <td>1,425,671,352</td>\n",
       "      <td>-0.02 %</td>\n",
       "      <td>-215,985</td>\n",
       "      <td>152</td>\n",
       "      <td>9,388,211</td>\n",
       "      <td>-310,220</td>\n",
       "      <td>1.2</td>\n",
       "      <td>39</td>\n",
       "      <td>65 %</td>\n",
       "      <td>17.72 %</td>\n",
       "    </tr>\n",
       "    <tr>\n",
       "      <th>1</th>\n",
       "      <td>2</td>\n",
       "      <td>India</td>\n",
       "      <td>1,428,627,663</td>\n",
       "      <td>0.81 %</td>\n",
       "      <td>11,454,490</td>\n",
       "      <td>481</td>\n",
       "      <td>2,973,190</td>\n",
       "      <td>-486,136</td>\n",
       "      <td>2.0</td>\n",
       "      <td>28</td>\n",
       "      <td>36 %</td>\n",
       "      <td>17.76 %</td>\n",
       "    </tr>\n",
       "    <tr>\n",
       "      <th>2</th>\n",
       "      <td>3</td>\n",
       "      <td>Indonesia</td>\n",
       "      <td>277,534,122</td>\n",
       "      <td>0.74 %</td>\n",
       "      <td>2,032,783</td>\n",
       "      <td>153</td>\n",
       "      <td>1,811,570</td>\n",
       "      <td>-49,997</td>\n",
       "      <td>2.1</td>\n",
       "      <td>30</td>\n",
       "      <td>59 %</td>\n",
       "      <td>3.45 %</td>\n",
       "    </tr>\n",
       "    <tr>\n",
       "      <th>3</th>\n",
       "      <td>4</td>\n",
       "      <td>Pakistan</td>\n",
       "      <td>240,485,658</td>\n",
       "      <td>1.98 %</td>\n",
       "      <td>4,660,796</td>\n",
       "      <td>312</td>\n",
       "      <td>770,880</td>\n",
       "      <td>-165,988</td>\n",
       "      <td>3.3</td>\n",
       "      <td>21</td>\n",
       "      <td>35 %</td>\n",
       "      <td>2.99 %</td>\n",
       "    </tr>\n",
       "    <tr>\n",
       "      <th>4</th>\n",
       "      <td>5</td>\n",
       "      <td>Bangladesh</td>\n",
       "      <td>172,954,319</td>\n",
       "      <td>1.03 %</td>\n",
       "      <td>1,767,947</td>\n",
       "      <td>1,329</td>\n",
       "      <td>130,170</td>\n",
       "      <td>-309,977</td>\n",
       "      <td>1.9</td>\n",
       "      <td>27</td>\n",
       "      <td>41 %</td>\n",
       "      <td>2.15 %</td>\n",
       "    </tr>\n",
       "  </tbody>\n",
       "</table>\n",
       "</div>"
      ],
      "text/plain": [
       "  Number     Country     Population Yearly_Change  Net_Change Density  \\\n",
       "0      1       China  1,425,671,352       -0.02 %    -215,985     152   \n",
       "1      2       India  1,428,627,663        0.81 %  11,454,490     481   \n",
       "2      3   Indonesia    277,534,122        0.74 %   2,032,783     153   \n",
       "3      4    Pakistan    240,485,658        1.98 %   4,660,796     312   \n",
       "4      5  Bangladesh    172,954,319        1.03 %   1,767,947   1,329   \n",
       "\n",
       "   Land_Area  Migrants Fert_Rate Med_Age Urban_Pop World_Share  \n",
       "0  9,388,211  -310,220       1.2      39      65 %     17.72 %  \n",
       "1  2,973,190  -486,136       2.0      28      36 %     17.76 %  \n",
       "2  1,811,570   -49,997       2.1      30      59 %      3.45 %  \n",
       "3    770,880  -165,988       3.3      21      35 %      2.99 %  \n",
       "4    130,170  -309,977       1.9      27      41 %      2.15 %  "
      ]
     },
     "execution_count": 11,
     "metadata": {},
     "output_type": "execute_result"
    }
   ],
   "source": [
    "Population = pd.DataFrame(Data)\n",
    "Population.head()"
   ]
  },
  {
   "cell_type": "code",
   "execution_count": 12,
   "metadata": {},
   "outputs": [],
   "source": [
    "# setting number column as index \n",
    "Population.set_index('Number',inplace= True)\n"
   ]
  },
  {
   "cell_type": "code",
   "execution_count": 13,
   "metadata": {},
   "outputs": [
    {
     "data": {
      "text/html": [
       "<div>\n",
       "<style scoped>\n",
       "    .dataframe tbody tr th:only-of-type {\n",
       "        vertical-align: middle;\n",
       "    }\n",
       "\n",
       "    .dataframe tbody tr th {\n",
       "        vertical-align: top;\n",
       "    }\n",
       "\n",
       "    .dataframe thead th {\n",
       "        text-align: right;\n",
       "    }\n",
       "</style>\n",
       "<table border=\"1\" class=\"dataframe\">\n",
       "  <thead>\n",
       "    <tr style=\"text-align: right;\">\n",
       "      <th></th>\n",
       "      <th>Country</th>\n",
       "      <th>Population</th>\n",
       "      <th>Yearly_Change</th>\n",
       "      <th>Net_Change</th>\n",
       "      <th>Density</th>\n",
       "      <th>Land_Area</th>\n",
       "      <th>Migrants</th>\n",
       "      <th>Fert_Rate</th>\n",
       "      <th>Med_Age</th>\n",
       "      <th>Urban_Pop</th>\n",
       "      <th>World_Share</th>\n",
       "    </tr>\n",
       "    <tr>\n",
       "      <th>Number</th>\n",
       "      <th></th>\n",
       "      <th></th>\n",
       "      <th></th>\n",
       "      <th></th>\n",
       "      <th></th>\n",
       "      <th></th>\n",
       "      <th></th>\n",
       "      <th></th>\n",
       "      <th></th>\n",
       "      <th></th>\n",
       "      <th></th>\n",
       "    </tr>\n",
       "  </thead>\n",
       "  <tbody>\n",
       "    <tr>\n",
       "      <th>1</th>\n",
       "      <td>China</td>\n",
       "      <td>1,425,671,352</td>\n",
       "      <td>-0.02 %</td>\n",
       "      <td>-215,985</td>\n",
       "      <td>152</td>\n",
       "      <td>9,388,211</td>\n",
       "      <td>-310,220</td>\n",
       "      <td>1.2</td>\n",
       "      <td>39</td>\n",
       "      <td>65 %</td>\n",
       "      <td>17.72 %</td>\n",
       "    </tr>\n",
       "    <tr>\n",
       "      <th>2</th>\n",
       "      <td>India</td>\n",
       "      <td>1,428,627,663</td>\n",
       "      <td>0.81 %</td>\n",
       "      <td>11,454,490</td>\n",
       "      <td>481</td>\n",
       "      <td>2,973,190</td>\n",
       "      <td>-486,136</td>\n",
       "      <td>2.0</td>\n",
       "      <td>28</td>\n",
       "      <td>36 %</td>\n",
       "      <td>17.76 %</td>\n",
       "    </tr>\n",
       "    <tr>\n",
       "      <th>3</th>\n",
       "      <td>Indonesia</td>\n",
       "      <td>277,534,122</td>\n",
       "      <td>0.74 %</td>\n",
       "      <td>2,032,783</td>\n",
       "      <td>153</td>\n",
       "      <td>1,811,570</td>\n",
       "      <td>-49,997</td>\n",
       "      <td>2.1</td>\n",
       "      <td>30</td>\n",
       "      <td>59 %</td>\n",
       "      <td>3.45 %</td>\n",
       "    </tr>\n",
       "    <tr>\n",
       "      <th>4</th>\n",
       "      <td>Pakistan</td>\n",
       "      <td>240,485,658</td>\n",
       "      <td>1.98 %</td>\n",
       "      <td>4,660,796</td>\n",
       "      <td>312</td>\n",
       "      <td>770,880</td>\n",
       "      <td>-165,988</td>\n",
       "      <td>3.3</td>\n",
       "      <td>21</td>\n",
       "      <td>35 %</td>\n",
       "      <td>2.99 %</td>\n",
       "    </tr>\n",
       "    <tr>\n",
       "      <th>5</th>\n",
       "      <td>Bangladesh</td>\n",
       "      <td>172,954,319</td>\n",
       "      <td>1.03 %</td>\n",
       "      <td>1,767,947</td>\n",
       "      <td>1,329</td>\n",
       "      <td>130,170</td>\n",
       "      <td>-309,977</td>\n",
       "      <td>1.9</td>\n",
       "      <td>27</td>\n",
       "      <td>41 %</td>\n",
       "      <td>2.15 %</td>\n",
       "    </tr>\n",
       "  </tbody>\n",
       "</table>\n",
       "</div>"
      ],
      "text/plain": [
       "           Country     Population Yearly_Change  Net_Change Density  \\\n",
       "Number                                                                \n",
       "1            China  1,425,671,352       -0.02 %    -215,985     152   \n",
       "2            India  1,428,627,663        0.81 %  11,454,490     481   \n",
       "3        Indonesia    277,534,122        0.74 %   2,032,783     153   \n",
       "4         Pakistan    240,485,658        1.98 %   4,660,796     312   \n",
       "5       Bangladesh    172,954,319        1.03 %   1,767,947   1,329   \n",
       "\n",
       "        Land_Area  Migrants Fert_Rate Med_Age Urban_Pop World_Share  \n",
       "Number                                                               \n",
       "1       9,388,211  -310,220       1.2      39      65 %     17.72 %  \n",
       "2       2,973,190  -486,136       2.0      28      36 %     17.76 %  \n",
       "3       1,811,570   -49,997       2.1      30      59 %      3.45 %  \n",
       "4         770,880  -165,988       3.3      21      35 %      2.99 %  \n",
       "5         130,170  -309,977       1.9      27      41 %      2.15 %  "
      ]
     },
     "execution_count": 13,
     "metadata": {},
     "output_type": "execute_result"
    }
   ],
   "source": [
    "Population.head()"
   ]
  },
  {
   "cell_type": "markdown",
   "metadata": {},
   "source": [
    "### creating csv file of the extracted table"
   ]
  },
  {
   "cell_type": "code",
   "execution_count": 15,
   "metadata": {},
   "outputs": [],
   "source": [
    "Population.to_csv('country_population.csv')"
   ]
  }
 ],
 "metadata": {
  "kernelspec": {
   "display_name": "base",
   "language": "python",
   "name": "python3"
  },
  "language_info": {
   "codemirror_mode": {
    "name": "ipython",
    "version": 3
   },
   "file_extension": ".py",
   "mimetype": "text/x-python",
   "name": "python",
   "nbconvert_exporter": "python",
   "pygments_lexer": "ipython3",
   "version": "3.12.1"
  }
 },
 "nbformat": 4,
 "nbformat_minor": 2
}
